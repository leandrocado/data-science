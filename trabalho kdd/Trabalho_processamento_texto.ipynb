{
 "cells": [
  {
   "cell_type": "code",
   "execution_count": 1,
   "metadata": {},
   "outputs": [],
   "source": [
    "import numpy as np\n",
    "import pandas as pd\n",
    "import nltk\n",
    "\n",
    "import string\n",
    "from nltk.corpus import stopwords\n",
    "from nltk.stem import PorterStemmer\n",
    "from sklearn.feature_extraction.text import CountVectorizer\n",
    "from sklearn.feature_extraction.text import TfidfTransformer\n",
    "\n",
    "# nltk.download(\"all\")"
   ]
  },
  {
   "cell_type": "code",
   "execution_count": 2,
   "metadata": {},
   "outputs": [],
   "source": [
    "from nltk.tokenize import word_tokenize\n",
    "from nltk import pos_tag\n",
    "from nltk.corpus import stopwords\n",
    "from nltk.stem import WordNetLemmatizer\n",
    "from sklearn.preprocessing import LabelEncoder\n",
    "from collections import defaultdict\n",
    "from nltk.corpus import wordnet as wn\n",
    "from sklearn.feature_extraction.text import TfidfVectorizer\n",
    "from sklearn import model_selection, naive_bayes, svm\n",
    "from sklearn.metrics import accuracy_score"
   ]
  },
  {
   "cell_type": "code",
   "execution_count": 3,
   "metadata": {},
   "outputs": [
    {
     "name": "stderr",
     "output_type": "stream",
     "text": [
      "/home/insight/.local/share/virtualenvs/data-science--PSMU8hs/lib/python3.6/site-packages/IPython/core/interactiveshell.py:3249: DtypeWarning: Columns (0) have mixed types. Specify dtype option on import or set low_memory=False.\n",
      "  if (await self.run_code(code, result,  async_=asy)):\n"
     ]
    },
    {
     "name": "stdout",
     "output_type": "stream",
     "text": [
      "Max score is: 9999999.0\n",
      "Max score is: 150.0\n"
     ]
    }
   ],
   "source": [
    "# importar e concatenar os dados\n",
    "df = pd.concat([pd.read_csv(__filename__) for __filename__ in [\"COMENTARIOS_{}.csv\".format(_) for _ in range(0, 2)]])\n",
    "\n",
    "# corrigir outliers no score\n",
    "print(\"Max score is: {}\".format(df[\"score\"].max()))\n",
    "\n",
    "filter_matrix = df[\"score\"] < df[\"score\"].quantile(0.995)\n",
    "df.loc[np.invert(filter_matrix), \"score\"] = df[filter_matrix][\"score\"].median()\n",
    "\n",
    "print(\"Max score is: {}\".format(df[\"score\"].max()))"
   ]
  },
  {
   "cell_type": "code",
   "execution_count": 4,
   "metadata": {},
   "outputs": [
    {
     "name": "stdout",
     "output_type": "stream",
     "text": [
      "1010841\n",
      "1010767\n"
     ]
    }
   ],
   "source": [
    "print(len(df))\n",
    "\n",
    "# removendo nulos\n",
    "df = df.dropna()\n",
    "\n",
    "print(len(df))"
   ]
  },
  {
   "cell_type": "code",
   "execution_count": 5,
   "metadata": {},
   "outputs": [
    {
     "data": {
      "text/html": [
       "<div>\n",
       "<style scoped>\n",
       "    .dataframe tbody tr th:only-of-type {\n",
       "        vertical-align: middle;\n",
       "    }\n",
       "\n",
       "    .dataframe tbody tr th {\n",
       "        vertical-align: top;\n",
       "    }\n",
       "\n",
       "    .dataframe thead th {\n",
       "        text-align: right;\n",
       "    }\n",
       "</style>\n",
       "<table border=\"1\" class=\"dataframe\">\n",
       "  <thead>\n",
       "    <tr style=\"text-align: right;\">\n",
       "      <th></th>\n",
       "      <th>label</th>\n",
       "      <th>comment</th>\n",
       "      <th>author</th>\n",
       "      <th>subreddit</th>\n",
       "      <th>score</th>\n",
       "      <th>date</th>\n",
       "      <th>parent_comment</th>\n",
       "      <th>comment_wcount</th>\n",
       "      <th>parent_comment_wcount</th>\n",
       "      <th>comment_char</th>\n",
       "      <th>parent_comment_char</th>\n",
       "    </tr>\n",
       "  </thead>\n",
       "  <tbody>\n",
       "    <tr>\n",
       "      <th>0</th>\n",
       "      <td>0</td>\n",
       "      <td>NC and NH.</td>\n",
       "      <td>Trumpbart</td>\n",
       "      <td>politics</td>\n",
       "      <td>2.0</td>\n",
       "      <td>2016-10</td>\n",
       "      <td>Yeah, I get that argument. At this point, I'd ...</td>\n",
       "      <td>3</td>\n",
       "      <td>17</td>\n",
       "      <td>10</td>\n",
       "      <td>80</td>\n",
       "    </tr>\n",
       "    <tr>\n",
       "      <th>1</th>\n",
       "      <td>0</td>\n",
       "      <td>You do know west teams play against west teams...</td>\n",
       "      <td>Shbshb906</td>\n",
       "      <td>nba</td>\n",
       "      <td>-4.0</td>\n",
       "      <td>2016-11</td>\n",
       "      <td>The blazers and Mavericks (The wests 5 and 6 s...</td>\n",
       "      <td>14</td>\n",
       "      <td>27</td>\n",
       "      <td>74</td>\n",
       "      <td>134</td>\n",
       "    </tr>\n",
       "    <tr>\n",
       "      <th>2</th>\n",
       "      <td>0</td>\n",
       "      <td>They were underdogs earlier today, but since G...</td>\n",
       "      <td>Creepeth</td>\n",
       "      <td>nfl</td>\n",
       "      <td>3.0</td>\n",
       "      <td>2016-09</td>\n",
       "      <td>They're favored to win.</td>\n",
       "      <td>19</td>\n",
       "      <td>4</td>\n",
       "      <td>121</td>\n",
       "      <td>23</td>\n",
       "    </tr>\n",
       "    <tr>\n",
       "      <th>3</th>\n",
       "      <td>0</td>\n",
       "      <td>This meme isn't funny none of the \"new york ni...</td>\n",
       "      <td>icebrotha</td>\n",
       "      <td>BlackPeopleTwitter</td>\n",
       "      <td>-8.0</td>\n",
       "      <td>2016-10</td>\n",
       "      <td>deadass don't kill my buzz</td>\n",
       "      <td>12</td>\n",
       "      <td>5</td>\n",
       "      <td>60</td>\n",
       "      <td>26</td>\n",
       "    </tr>\n",
       "    <tr>\n",
       "      <th>4</th>\n",
       "      <td>0</td>\n",
       "      <td>I could use one of those tools.</td>\n",
       "      <td>cush2push</td>\n",
       "      <td>MaddenUltimateTeam</td>\n",
       "      <td>6.0</td>\n",
       "      <td>2016-12</td>\n",
       "      <td>Yep can confirm I saw the tool they use for th...</td>\n",
       "      <td>7</td>\n",
       "      <td>18</td>\n",
       "      <td>31</td>\n",
       "      <td>85</td>\n",
       "    </tr>\n",
       "  </tbody>\n",
       "</table>\n",
       "</div>"
      ],
      "text/plain": [
       "  label                                            comment     author  \\\n",
       "0     0                                         NC and NH.  Trumpbart   \n",
       "1     0  You do know west teams play against west teams...  Shbshb906   \n",
       "2     0  They were underdogs earlier today, but since G...   Creepeth   \n",
       "3     0  This meme isn't funny none of the \"new york ni...  icebrotha   \n",
       "4     0                    I could use one of those tools.  cush2push   \n",
       "\n",
       "            subreddit  score     date  \\\n",
       "0            politics    2.0  2016-10   \n",
       "1                 nba   -4.0  2016-11   \n",
       "2                 nfl    3.0  2016-09   \n",
       "3  BlackPeopleTwitter   -8.0  2016-10   \n",
       "4  MaddenUltimateTeam    6.0  2016-12   \n",
       "\n",
       "                                      parent_comment  comment_wcount  \\\n",
       "0  Yeah, I get that argument. At this point, I'd ...               3   \n",
       "1  The blazers and Mavericks (The wests 5 and 6 s...              14   \n",
       "2                            They're favored to win.              19   \n",
       "3                         deadass don't kill my buzz              12   \n",
       "4  Yep can confirm I saw the tool they use for th...               7   \n",
       "\n",
       "   parent_comment_wcount  comment_char  parent_comment_char  \n",
       "0                     17            10                   80  \n",
       "1                     27            74                  134  \n",
       "2                      4           121                   23  \n",
       "3                      5            60                   26  \n",
       "4                     18            31                   85  "
      ]
     },
     "execution_count": 5,
     "metadata": {},
     "output_type": "execute_result"
    }
   ],
   "source": [
    "df[\"comment_wcount\"] = df[\"comment\"].str.count(\" \") + 1\n",
    "df[\"parent_comment_wcount\"] = df[\"parent_comment\"].str.count(\" \") + 1\n",
    "\n",
    "df[\"comment_char\"] = df[\"comment\"].str.len()\n",
    "df[\"parent_comment_char\"] = df[\"parent_comment\"].str.len()\n",
    "\n",
    "# df = df[0:100]\n",
    "df.head()"
   ]
  },
  {
   "cell_type": "code",
   "execution_count": 6,
   "metadata": {},
   "outputs": [],
   "source": [
    "def process_text(text):\n",
    "    text = ''.join([c for c in text if c not in string.punctuation])\n",
    "    text = [word for word in text.split() if word.lower() not in stopwords.words('english')]\n",
    "    return [PorterStemmer().stem(word) for word in text]\n",
    "\n",
    "# df['comment'].apply(process_text).head()\n",
    "\n",
    "# wordcount_vetorizer = CountVectorizer(analyzer=process_text).fit(df['comment'])\n",
    "# wordcount_vetorized = wordcount_vetorizer.transform(df['comment'])\n",
    "\n",
    "# ml_df = pd.DataFrame(wordcount_vetorized.todense(), columns=wordcount_vetorizer.get_feature_names())\n",
    "# ml_df = pd.concat([df['label'], ml_df], axis=1)\n",
    "\n",
    "# tfidf_vetorizer = TfidfTransformer().fit(wordcount_vetorized)\n",
    "# tfidf_df = pd.DataFrame(\n",
    "#     tfidf_vetorizer.transform(wordcount_vetorized).todense(),\n",
    "#     columns=wordcount_vetorizer.get_feature_names()\n",
    "# )\n",
    "# tfidf_df = pd.concat([df['label'], tfidf_df], axis=1)\n",
    "# tfidf_df.head()\n",
    "\n",
    "# display TF-IDF ranked words\n",
    "# pd.DataFrame(tfidf_vetorizer.idf_, index=wordcount_vetorizer.get_feature_names(), columns=['TF-IDF']).sort_values(by=['TF-IDF'], ascending = False).head()"
   ]
  },
  {
   "cell_type": "code",
   "execution_count": null,
   "metadata": {},
   "outputs": [],
   "source": [
    "# # Step - a : Remove blank rows if any.\n",
    "# df['comment'].dropna(inplace=True)\n",
    "# # Step - b : Change all the text to lower case. This is required as python interprets 'dog' and 'DOG' differently\n",
    "# df['comment'] = [entry.lower() for entry in df['comment']]\n",
    "# # Step - c : Tokenization : In this each entry in the corpus will be broken into set of words\n",
    "# df['comment']= [word_tokenize(entry) for entry in df['comment']]\n",
    "# # Step - d : Remove Stop words, Non-Numeric and perfom Word Stemming/Lemmenting.\n",
    "# # WordNetLemmatizer requires Pos tags to understand if the word is noun or verb or adjective etc. By default it is set to Noun\n",
    "# tag_map = defaultdict(lambda : wn.NOUN)\n",
    "# tag_map['J'] = wn.ADJ\n",
    "# tag_map['V'] = wn.VERB\n",
    "# tag_map['R'] = wn.ADV\n",
    "# for index,entry in enumerate(df['comment']):\n",
    "#     # Declaring Empty List to store the words that follow the rules for this step\n",
    "#     Final_words = []\n",
    "#     # Initializing WordNetLemmatizer()\n",
    "#     word_Lemmatized = WordNetLemmatizer()\n",
    "#     # pos_tag function below will provide the 'tag' i.e if the word is Noun(N) or Verb(V) or something else.\n",
    "#     for word, tag in pos_tag(entry):\n",
    "#         # Below condition is to check for Stop words and consider only alphabets\n",
    "#         if word not in stopwords.words('english') and word.isalpha():\n",
    "#             word_Final = word_Lemmatized.lemmatize(word,tag_map[tag[0]])\n",
    "#             Final_words.append(word_Final)\n",
    "#     # The final processed set of words for each iteration will be stored in 'text_final'\n",
    "#     df.loc[index,'comment'] = str(Final_words)"
   ]
  },
  {
   "cell_type": "code",
   "execution_count": 7,
   "metadata": {},
   "outputs": [],
   "source": [
    "df['comment'] = df['comment'].astype(str)\n",
    "df['label'] = df['label'].astype(int)"
   ]
  },
  {
   "cell_type": "code",
   "execution_count": 8,
   "metadata": {},
   "outputs": [
    {
     "name": "stdout",
     "output_type": "stream",
     "text": [
      "{'nc': 2981, 'and': 247, 'you': 4983, 'do': 1348, 'know': 2492, 'west': 4851, 'teams': 4403, 'play': 3321, 'against': 169, 'more': 2913, 'than': 4439, 'east': 1450, 'right': 3738, 'they': 4459, 'were': 4849, 'earlier': 1441, 'today': 4526, 'but': 687, 'since': 4033, 'announcement': 259, 'this': 4469, 'the': 4445, 'vegas': 4742, 'line': 2617, 'has': 2061, 'moved': 2928, 'to': 4525, 'patriots': 3220, 'meme': 2803, 'isn': 2371, 'funny': 1864, 'none': 3027, 'of': 3074, 'new': 3007, 'york': 4982, 'nigga': 3017, 'ones': 3106, 'are': 306, 'could': 1085, 'use': 4713, 'one': 3105, 'those': 4472, 'tools': 4543, 'don': 1363, 'pay': 3224, 'attention': 373, 'her': 2111, 'as': 333, 'long': 2662, 'she': 3959, 'legal': 2565, 'wouldn': 4944, 'kick': 2463, 'out': 3152, 'bed': 475, 'before': 479, 'took': 4541, 'load': 2644, 'trick': 4590, 'or': 3133, 'treating': 4584, 'in': 2269, 'general': 1895, 'is': 2366, 'just': 2442, 'weird': 4843, 'blade': 538, 'gtfo': 1996, 'have': 2071, 'good': 1953, 'build': 660, 'buy': 693, 'games': 1875, 'save': 3833, 'it': 2377, 'would': 4943, 'love': 2686, 'see': 3896, 'him': 2131, 'at': 357, 'think': 4465, 'significant': 4021, 'amount': 239, 'be': 458, 'spending': 4168, 'their': 4448, 'tax': 4391, 'dollars': 1361, 'on': 3103, 'other': 3145, 'people': 3237, 'damn': 1180, 'was': 4806, 'hoping': 2176, 'god': 1942, 'real': 3599, 'an': 242, 'agenda': 172, 'great': 1977, 'idea': 2220, 'ayy': 402, 'bb': 455, 'makes': 2727, 'bit': 528, 'sense': 3916, 'context': 1040, 'what': 4854, 'fuck': 1848, 'because': 471, 'really': 3605, 'sign': 4018, 'why': 4877, 'fail': 1640, 'me': 2779, 'my': 2953, 'precious': 3408, 'pre': 3407, 'back': 405, 'head': 2077, 'into': 2342, 'space': 4143, 'between': 508, 'his': 2139, 'bone': 570, 'shoulder': 4002, 'point': 3343, 're': 3590, 'so': 4090, 'stable': 4194, 'house': 2186, 'em': 1495, 'ideology': 2225, 'for': 1790, 'sure': 4336, 'reaction': 3594, 'that': 4443, 'not': 3037, 'say': 3840, 'developed': 1287, 'something': 4115, 'its': 2382, 'maybe': 2776, 'control': 1048, 'certainly': 790, 'evidence': 1576, 'mine': 2852, 'auto': 386, 'without': 4909, 'asking': 342, 'day': 1200, 'jesus': 2406, 'fnaf': 1774, 'fan': 1661, 'confirmed': 1009, 'make': 2725, 'cry': 1143, 'first': 1747, 'thought': 4474, 'fixing': 1758, 'car': 742, 'wasn': 4809, 'guy': 2011, 'there': 4455, 'no': 3023, 'way': 4821, 'he': 2076, 'trolling': 4600, 'human': 2199, 'beings': 485, 'with': 4907, 'actual': 131, 'feelings': 1694, 'according': 110, 'videos': 4754, 'put': 3522, 'together': 4527, 'by': 696, 'gb': 1887, 'side': 4013, 'bullet': 666, 'fucking': 1852, 'even': 1564, 'about': 95, 'round': 3779, 'golf': 1950, 'animal': 253, 've': 4740, 'had': 2021, 'born': 587, 'only': 3108, 'watched': 4816, '20': 24, 'mins': 2862, 'bc': 457, 'fell': 1698, 'asleep': 344, 'time': 4509, 'already': 218, 'coke': 935, 'zero': 4994, 'opened': 3114, 'diet': 1307, 'mountain': 2924, 'up': 4692, 'take': 4369, 'how': 2190, 'media': 2790, 'chose': 855, 'never': 3006, 'bring': 628, 'election': 1486, 'cant': 733, 'go': 1937, 'wrong': 4954, 'well': 4846, 'such': 4300, 'owner': 3164, 'tbh': 4394, 'giant': 1915, 'probably': 3447, 'made': 2710, 'itself': 2383, 'considered': 1024, 'asshole': 350, 'let': 2581, 'most': 2917, 'shit': 3976, 'trend': 4588, 'll': 2640, 'die': 1304, 'month': 2909, 'try': 4615, 'talking': 4377, 'department': 1256, 'run': 3791, 'pass': 3203, 'mods': 2896, 'tho': 4470, 'success': 4298, 'give': 1923, 'trouble': 4605, 'worth': 4940, 'yes': 4978, 'each': 1438, 'battle': 452, '10': 2, 'will': 4885, 'last': 2526, 'minute': 2863, 'believe': 488, 'can': 720, 'happy': 2049, 'meal': 2780, 'toys': 4561, '99': 88, 'found': 1815, 'gate': 1882, 'if': 2230, 'buying': 694, 'off': 3076, 'dun': 1429, 'anyone': 271, 'ever': 1568, 'talks': 4378, 'young': 4984, 'private': 3442, 'john': 2417, 'hack': 2015, 'who': 4871, 'want': 4793, 'keep': 2452, 'any': 268, 'safety': 3806, 'regulations': 3643, 'away': 396, 'from': 1842, 'guns': 2010, 'playing': 3325, 'while': 4866, 'hate': 2064, 'winner': 4896, 'loser': 2675, 'second': 3888, 'best': 504, 'team': 4401, 'may': 2775, 'very': 4747, 'end': 1508, 'reason': 3607, 'should': 4000, 'backwards': 408, 'been': 477, 'get': 1908, 'your': 4986, 'cat': 763, 'wow': 4946, 'players': 3324, 'peasants': 3232, 'thats': 4444, 'argument': 314, 'here': 2112, 'calling': 707, 'stealing': 4232, 'reference': 3629, 'includes': 2276, 'changing': 805, 'still': 4248, 'own': 3162, 'like': 2608, 'dark': 1191, 'souls': 4134, 'references': 3630, 'directly': 1317, 'putting': 3525, 'dog': 1357, 'dump': 1428, 'dude': 1422, 'answer': 263, 'owners': 3165, 'need': 2989, 'oh': 3091, 'come': 951, 'name': 2961, 'irl': 2361, 'gave': 1884, 'quite': 3541, 'yellow': 4976, 'show': 4004, 'hell': 2102, 'face': 1631, 'middle': 2836, 'left': 2562, 'page': 3174, '13': 14, 'after': 166, 'two': 4632, 'babies': 403, 'five': 1754, 'years': 4972, 'marriage': 2753, 'comes': 954, 'daddy': 1174, 'completely': 990, 'stop': 4253, 'doing': 1359, 'steps': 4238, 'except': 1587, 'when': 4860, 'gets': 1909, 'fired': 1745, 'again': 168, 'yeah': 4970, 'enough': 1526, 'cod': 929, 'spoilers': 4177, 'hahaha': 2025, 'totally': 4549, 'agree': 178, 'which': 4865, 'deal': 1206, 'tree': 4586, 'days': 1201, '11': 11, 'america': 233, 'united': 4675, 'another': 262, 'common': 971, 'threat': 4480, 'drivers': 1407, 'imagine': 2248, 'forest': 1799, 'park': 3194, 'night': 3018, 'suicide': 4315, 'watch': 4815, 'china': 846, 'russia': 3796, 'na': 2957, 'sa': 3800, 'haven': 2072, 'tried': 4592, 'mainly': 2719, 'permanent': 3249, 'kind': 2476, 'haha': 2024, 'mac': 2705, 'background': 406, 'quick': 3537, 'someone': 4114, 'photoshop': 3270, 'turn': 4621, 'full': 1855, 'draw': 1394, 'below': 495, 'heart': 2090, 'both': 592, 'pretty': 3424, 'disney': 1336, 'star': 4206, 'wars': 4805, 'old': 3098, 'eu': 1558, 'seen': 3903, 'done': 1367, 'disagree': 1323, 'add': 136, 'gt': 1994, 'automatically': 388, 'taken': 4370, 'low': 2691, 'gotta': 1963, 'aren': 309, 'drink': 1401, 'honestly': 2167, 'mind': 2849, 'much': 2937, 'liberals': 2592, 'them': 4450, 'credit': 1121, 'hilarious': 2128, 'blow': 556, 'some': 4111, 'party': 3202, 'spots': 4182, 'book': 576, 'tape': 4383, 'big': 514, 'band': 422, 'music': 2948, 'couldn': 1086, 'few': 1709, 'seconds': 3890, 'reading': 3596, 'laughing': 2533, 'hard': 2051, 'easy': 1452, 'now': 3045, 'carried': 751, 'price': 3427, 'going': 1946, 'devs': 1295, 'plans': 3315, 'nerf': 3000, 'bet': 505, 'next': 3009, 'bf': 510, 'sounds': 4137, 'might': 2837, 'extra': 1621, 'lets': 2582, 'hope': 2173, 'check': 825, 'surprise': 4340, 'female': 1701, 'jim': 2412, 'jones': 2427, 'target': 4384, 'we': 4824, 'didn': 1302, 'fans': 1663, 'anymore': 270, 'doesn': 1355, 'act': 121, 'cares': 749, 'lines': 2618, 'cool': 1062, 'interested': 2335, 'appears': 286, 'swimming': 4351, 'pool': 3363, 'larger': 2523, 'though': 4473, 'grab': 1968, 'coat': 926, 'these': 4458, 'getting': 1910, 'help': 2105, 'careful': 748, 'wish': 4904, 'smith': 4082, 'raiders': 3554, 'guys': 2012, 'mile': 2841, 'high': 2124, 'sorry': 4131, 'mean': 2781, 'bots': 595, 'send': 3914, 'sometimes': 4117, 'wonder': 4917, 'anything': 272, 'burn': 676, 'buildings': 662, 'mr': 2934, 'president': 3417, 'speaking': 4153, 'english': 1522, 'titan': 4518, 'making': 2729, 'worse': 4938, '250': 41, '300': 49, 'life': 2600, 'insurance': 2325, 'either': 1481, 'joe': 2416, 'part': 3196, 'video': 4753, 'got': 1961, 'porn': 3371, 'test': 4432, 'bot': 591, 'all': 204, 'irrelevant': 2365, 'whether': 4864, 'self': 3907, 'government': 1965, 'did': 1301, 'figure': 1719, 'alt': 221, 'field': 1712, 'wtf': 4957, 'bang': 424, 'problem': 3448, 'thank': 4440, 'kinda': 2477, 'obvious': 3068, 'immediately': 2250, 'traded': 4565, 'down': 1377, 'war': 4797, 'ago': 177, 'wait': 4780, 'sec': 3887, 'comment': 960, 'similar': 4029, 'went': 4848, 'storm': 4261, 'happened': 2045, 'cannot': 731, 'proven': 3488, 'job': 2414, 'tom': 4532, 'gif': 1917, 'far': 1666, 'short': 3994, 'hair': 2030, 'duh': 1425, 'bastard': 444, 'definitely': 1235, 'lot': 2682, 'us': 4710, 'aware': 394, 'danger': 1187, 'forced': 1793, 'challenge': 793, 'de': 1203, 'te': 4395, 'switched': 4354, 'blue': 559, 'red': 3623, 'small': 4072, 'weren': 4850, 'looking': 2666, 'please': 3329, 'congratulations': 1014, 'everyone': 1572, 'sees': 3904, 'losers': 2676, 'customers': 1165, 'respect': 3700, 'stores': 4259, 'always': 225, 'clue': 914, 'throw': 4488, 'shift': 3967, 'care': 746, 'lives': 2637, 'matter': 2770, 'metal': 2822, 'gear': 1888, 'guess': 2003, 'modern': 2895, 'times': 4510, 'social': 4092, 'justice': 2443, 'black': 536, 'gay': 1885, 'beat': 464, 'throws': 4491, 'sarcasm': 3825, 'over': 3158, 'internet': 2340, 'clip': 902, 'waste': 4811, 'memory': 2806, 'coming': 958, 'sub': 4292, 'reasonable': 3608, 'article': 328, 'source': 4138, 'smoke': 4083, 'weed': 4837, 'warfare': 4799, 'campaign': 716, 'expensive': 1605, 'state': 4216, 'wage': 4778, 'cooking': 1061, 'physical': 3272, 'plan': 3309, 'sharing': 3956, 'kids': 2468, 'our': 3149, 'final': 1730, 'nintendo': 3022, 'switch': 4353, 'launch': 2534, 'title': 4520, 'revenge': 3717, 'hd': 2075, 'am': 226, 'multiplayer': 2940, 'hyped': 2216, 'recommend': 3619, 'install': 2318, 'clinton': 901, 'pls': 3334, 'kill': 2469, 'does': 1354, 'diamond': 1297, 'cap': 734, 'soon': 4126, 'scary': 3847, 'dope': 1372, 'google': 1956, 'half': 2031, 'wiki': 4882, 'path': 3214, 'funds': 1862, 'types': 4635, 'place': 3305, 'free': 1830, 'packs': 3172, 'opinion': 3117, 'fact': 1635, 'girlfriend': 1920, 'became': 470, 'zombie': 4996, 'saying': 3841, 'better': 507, 'inner': 2309, 'city': 875, 'schools': 3854, 'too': 4540, 'enjoy': 1523, 'although': 224, 'wings': 4895, 'bump': 672, 'ass': 346, 'irony': 2364, 'ty': 4633, 'bless': 544, 'statistics': 4223, 'hidden': 2121, 'due': 1424, 'process': 3450, 'kek': 2456, 'talk': 4375, 'penis': 3236, 'therefore': 4456, 'support': 4326, 'elite': 1490, 'central': 784, 'friends': 1840, 'issue': 2375, 'many': 2743, 'targets': 4385, 'things': 4464, 'law': 2535, 'alcohol': 198, 'used': 4714, 'create': 1114, 'effect': 1471, 'nonsense': 3028, 'blocked': 550, 'being': 484, 'moron': 2916, 'smell': 4077, 'releasing': 3653, 'stuff': 4289, 'card': 744, 'wanna': 4792, 'stack': 4195, 'early': 1442, 'possible': 3380, 'start': 4209, 'power': 3395, 'mana': 2734, 'online': 3107, 'proud': 3485, 'obligatory': 3067, 'pack': 3170, 'combination': 947, 'mad': 2708, 'racism': 3547, 'then': 4453, 'tell': 4417, 'offended': 3077, 'word': 4924, 'faggot': 1639, 'means': 2783, 'misspelled': 2876, 'speed': 4161, 'dollar': 1360, 'illegal': 2241, 'expect': 1602, 'playoffs': 3327, 'alone': 214, 'top': 4544, 'seed': 3897, 'post': 3382, 'french': 1834, 'football': 1789, 'whole': 4874, 'problems': 3449, 'movie': 2931, 'committing': 970, 'christian': 859, 'propaganda': 3474, 'fantasy': 1665, 'pronounced': 3472, 'same': 3816, 'lazy': 2540, 'anyway': 274, 'ignoring': 2234, 'emails': 1497, 'blew': 545, 'air': 191, 'through': 4486, 'nose': 3036, 'usual': 4722, 'thx': 4496, 'ask': 340, 'bunch': 673, 'dead': 1204, 'wants': 4796, 'til': 4506, 'wondering': 4919, 'pictures': 3282, 'however': 2192, 'pick': 3276, 'epic': 1537, 'given': 1924, 'artist': 330, 'mix': 2881, 'incident': 2273, 'received': 3614, 'public': 3499, 'wall': 4788, 'experience': 1606, 'water': 4819, 'inch': 2271, 'ok': 3095, 'rebels': 3611, 'linked': 2621, 'disgusting': 1334, 'nobody': 3024, 'hundred': 2204, 'bro': 633, 'injuries': 2307, 'forgot': 1804, 'type': 4634, 'bad': 410, 'fight': 1714, 'harder': 2053, 'folks': 1780, 'voted': 4770, '2010': 28, 'exact': 1582, 'models': 2893, 'looked': 2665, 'crown': 1139, 'glass': 1929, 'giving': 1926, 'plot': 3333, 'decisions': 1222, 'tv': 4625, 'recent': 3616, 'curious': 1157, 'american': 234, 'russian': 3797, 'hackers': 2018, 'december': 1217, 'literally': 2632, 'said': 3807, 'speech': 4160, 'republicans': 3688, 'worst': 4939, 'spent': 4169, 'pushing': 3519, 'favorite': 1678, 'whilst': 4867, 'knowing': 2493, '120': 13, 'miles': 2842, 'faster': 1673, 'move': 2927, 'lane': 2518, 'passing': 3206, 'meant': 2784, 'imply': 2259, 'reddit': 3624, 'account': 111, 'amazon': 229, 'san': 3819, 'tend': 4421, 'seriously': 3925, 'wwe': 4959, 'sjws': 4049, 'paying': 3225, 'jobs': 2415, '15': 16, 'hour': 2184, 'mcdonalds': 2778, 'lol': 2660, 'whoever': 4873, 'agreed': 179, 'step': 4237, 'rule': 3789, 'screw': 3870, 'else': 1493, 'came': 712, 'blame': 540, 'thread': 4478, 'heard': 2088, 'game': 1871, 'nothing': 3040, 'developers': 1289, 'trump': 4610, 'won': 4916, 'spam': 4147, 'bs': 647, 'thanks': 4442, 'wrote': 4955, 'song': 4121, 'scott': 3863, 'screen': 3867, 'computer': 994, 'basically': 440, 'national': 2968, 'threw': 4484, 'forget': 1801, 'eat': 1453, 'calls': 708, 'contest': 1039, 'man': 2733, 'actually': 132, 'beating': 466, 'removed': 3668, 'links': 2622, 'hot': 2183, 'single': 4035, 'greatest': 1979, 'spell': 4163, 'must': 2951, 'deliver': 1244, 'liked': 2609, 'charge': 811, 'mcdonald': 2777, 'runs': 3793, 'until': 4691, 'prison': 3440, 'sentence': 3919, 'plenty': 3332, 'win': 4889, 'lottery': 2684, 'every': 1569, 'year': 4971, 'yet': 4980, 'view': 4755, 'myself': 2954, 'others': 3146, 'older': 3099, 'avoid': 391, 'copyright': 1068, 'idiots': 2227, 'around': 322, 'judging': 2435, 'based': 437, 'picked': 3277, 'friday': 1837, 'dont': 1368, 'physics': 3274, 'logic': 2657, 'argue': 312, 'drugs': 1417, 'catch': 764, 'rekt': 3644, 'fat': 1674, 'where': 4862, 'cancer': 726, 'taking': 4372, 'hollywood': 2159, 'thomas': 4471, 'movies': 2932, 'service': 3930, 'weekend': 4839, 'healthy': 2086, 'fear': 1682, 'handle': 2040, 'lose': 2674, 'pot': 3387, 'safe': 3804, 'gonna': 1952, 'change': 802, 'nature': 2974, 'child': 842, 'awesome': 397, 'freedoms': 1832, 'beliefs': 487, 'religious': 3658, 'freedom': 1831, 'legislation': 2571, 'wanted': 4794, 'upgrade': 4697, '4k': 67, '500': 70, 'refund': 3634, 'nation': 2967, 'resources': 3699, 'corporate': 1072, 'pockets': 3341, 'username': 4718, 'checks': 829, 'turning': 4623, 'smh': 4079, 'money': 2903, 'body': 564, 'virgin': 4761, 'teen': 4411, 'locked': 2654, 'bud': 652, 'daughter': 1197, 'wife': 4879, 'feeding': 1691, 'hours': 2185, 'goes': 1945, 'true': 4608, 'shape': 3953, 'look': 2664, 'obviously': 3069, 'author': 382, 'description': 1264, 'pages': 3175, 'enjoyed': 1524, '1st': 22, 'season': 3882, 'everything': 1573, 'course': 1096, 'brand': 612, 'violence': 4759, 'unlike': 4682, 'nazis': 2978, 'ridiculous': 3731, 'bat': 447, 'miller': 2845, 'interesting': 2336, 'event': 1565, 'posted': 3383, 'board': 560, 'near': 2982, 'personal': 3252, 'apart': 278, 'super': 4322, 'drives': 1408, 'world': 4933, 'glory': 1934, 'hey': 2119, 'commentary': 961, 'communication': 972, 'apple': 287, 'mark': 2749, 'tires': 4517, 'pie': 3283, 'update': 4694, 'profile': 3459, 'army': 321, 'within': 4908, 'keeping': 2454, 'force': 1792, 'cause': 770, 'share': 3954, 'series': 3923, 'overwatch': 3161, 'beats': 467, 'csgo': 1146, 'esports': 1552, 'worked': 4928, 'mom': 2897, 'amen': 231, 'learn': 2552, 'slightly': 4066, 'tweet': 4626, 'drop': 1412, 'quality': 3529, 'shitpost': 3978, 'ten': 4420, 'default': 1228, 'lobby': 2650, 'option': 3131, 'guarantee': 1998, 'majority': 2724, 'intentionally': 2333, 'disable': 1321, 'amazing': 228, 'dicks': 1300, 'liberal': 2591, 'ultra': 4651, 'nice': 3013, 'ahhh': 184, 'ya': 4963, 'nah': 2958, 'abused': 100, 'glitch': 1931, 'bug': 658, 'yup': 4992, 'pussy': 3521, 'topic': 4545, 'political': 3356, 'accidentally': 109, 'deleted': 1242, 'email': 1496, 'dirt': 1318, 'rally': 3560, 'steam': 4234, 'cd': 776, 'key': 2460, 'bought': 598, 'copy': 1067, '19': 21, 'also': 220, 'store': 4258, 'chicken': 839, 'tastes': 4388, 'fire': 1743, 'casual': 761, 'late': 2527, 'ride': 3730, 'live': 2634, 'rolling': 3766, 'coal': 924, 'king': 2479, 'everywhere': 1575, 'scum': 3875, 'blm': 548, 'sugar': 4310, 'snap': 4087, 'green': 1982, 'pen': 3234, 'kitchen': 2483, 'riding': 3732, 'motherfucker': 2920, 'damage': 1178, 'enemy': 1513, 'tear': 4404, 'instead': 2322, 'solar': 4101, 'powered': 3396, 'drones': 1411, 'satire': 3828, 'lived': 2635, 'mass': 2760, 'juice': 2436, 'finger': 1739, 'canada': 721, 'changed': 803, 'bush': 682, 'obama': 3061, 'able': 92, 'nfl': 3011, 'mobile': 2889, 'almost': 213, 'works': 4932, 'wireless': 4902, 'suppose': 4332, 'interest': 2334, 'salt': 3813, 'management': 2737, 'company': 978, 'knows': 2496, 'feel': 1692, 'realize': 3603, 'letting': 2585, 'ruin': 3785, 'gold': 1948, 'different': 1309, 'regular': 3640, 'negative': 2992, 'meh': 2798, 'upper': 4701, 'doctor': 1349, 'chest': 836, 'opinions': 3118, 'hear': 2087, 'person': 3251, 'minutes': 2864, 'fast': 1672, 'feet': 1697, 'kyle': 2500, 'underrated': 4661, 'lie': 2597, 'crisis': 1131, 'confidence': 1006, 'white': 4869, 'clear': 890, 'absolutely': 98, 'perfect': 3243, 'shitty': 3981, 'leave': 2556, 'fedora': 1687, 'wear': 4830, 'carry': 753, 'set': 3932, 'straight': 4263, 'material': 2767, 'design': 1269, 'younger': 4985, 'ai': 185, 'deck': 1223, 'meta': 2821, 'workers': 4930, 'streets': 4271, 'citizen': 873, 'beautiful': 468, 'model': 2892, 'finest': 1738, 'huge': 2197, 'responsibility': 3703, 'vote': 4769, 'candidate': 727, 'defend': 1229, 'protect': 3479, 'rights': 3739, 'citizens': 874, 'bernie': 502, 'johnson': 2419, 'votes': 4773, 'vs': 4777, 'dear': 1210, 'leader': 2544, 'album': 197, 'listen': 2628, 'wat': 4814, 'shot': 3997, 'work': 4927, 'walking': 4786, 'cutting': 1169, 'film': 1726, 'peter': 3258, 'jackson': 2389, 'exclusive': 1592, 'tumblr': 4619, 'open': 3113, 'ended': 1509, 'questions': 3535, 'herself': 2116, 'gotten': 1964, 'tower': 4557, 'democrats': 1253, 'actions': 124, 'hitler': 2144, 'europe': 1560, 'clearly': 892, 'cars': 755, 'standing': 4204, 'ground': 1987, 'retard': 3710, 'strength': 4272, 'once': 3104, 'sauce': 3830, 'lt': 2694, 'millions': 2847, 'laugh': 2531, 'sort': 4132, 'using': 4721, 'schedule': 3851, 'logo': 2659, 'images': 2246, 'count': 1088, 'important': 2261, 'capitalism': 738, 'having': 2074, 'murdered': 2944, 'boys': 607, 'hood': 2170, 'mention': 2811, 'flair': 1761, 'elected': 1485, '2000': 26, 'least': 2555, 'code': 930, 'grass': 1975, 'announced': 258, 'btw': 648, 'charged': 812, 'takes': 4371, 'infinite': 2298, 'glad': 1928, 'provide': 3490, 'proof': 3473, 'comparison': 983, 'indiana': 2291, 'universe': 4678, 'advanced': 151, 'events': 1566, 'outside': 3156, 'magic': 2713, 'hasn': 2062, 'canadian': 722, 'faces': 1633, 'trailer': 4570, 'girl': 1919, 'find': 1734, 'starts': 4213, '23': 38, '45': 64, 'fair': 1645, 'included': 2275, 'piece': 3284, 'entire': 1532, 'release': 3650, 'cs': 1145, 'cities': 872, 'welcome': 4844, 'compare': 980, 'mars': 2756, 'vehicle': 4743, 'attached': 367, 'drive': 1404, 'requirements': 3693, 'include': 2274, 'file': 1722, 'hunt': 2207, 'sword': 4356, 'powers': 3398, 'combined': 948, 'captain': 741, 'months': 2910, 'remove': 3667, 'bigger': 515, 'thing': 4463, 'consoles': 1029, 'xbox': 4960, 'controller': 1050, 'pc': 3227, 'desk': 1272, 'keyboard': 2461, 'mouse': 2925, 'sit': 4039, 'close': 906, 'monitor': 2904, 'eyes': 1625, 'hurt': 2211, 'league': 2550, 'caused': 771, 'muh': 2938, 'dirty': 1319, 'school': 3853, 'secret': 3891, 'anxiety': 267, 'running': 3792, 'dad': 1173, 'called': 706, 'cute': 1167, 'whatever': 4855, 'call': 705, 'loads': 2647, 'chinese': 847, 'dmg': 1345, 'stance': 4200, 'border': 583, 'security': 3895, 'extreme': 1622, 'countries': 1091, 'isis': 2367, 'currently': 1160, 'racist': 3548, 'monster': 2907, 'seasons': 3883, 'absolute': 97, 'ops': 3129, 'zombies': 4997, 'lmao': 2642, 'south': 4140, 'africa': 164, 'possibly': 3381, 'opening': 3115, 'sexuality': 3944, 'age': 170, 'threads': 4479, 'cheating': 824, 'twitter': 4631, 'yesterday': 4979, '2012': 30, 'shitting': 3980, 'pants': 3187, 'polls': 3362, 'tight': 4505, 'explain': 1611, 'asks': 343, 'relevant': 3654, 'interests': 2337, 'strangers': 4266, 'read': 3595, 'facebook': 1632, 'dogs': 1358, 'lots': 2683, 'comments': 963, 'acting': 122, 'cringe': 1130, 'intended': 2331, 'protection': 3482, 'sudden': 4305, 'death': 1211, 'false': 1655, 'weapons': 4829, 'report': 3677, 'clickbait': 897, 'sites': 4041, 'boobs': 575, 'question': 3534, '100': 3, 'rest': 3705, 'trying': 4616, 'dick': 1299, 'usually': 4723, 'positive': 3378, 'approach': 294, 'neutral': 3005, 'soft': 4099, 'af': 156, 'putin': 3523, 'needs': 2991, 'donate': 1365, 'foundation': 1816, 'grew': 1983, 'center': 783, 'confirm': 1008, 'alabama': 196, 'bullshit': 668, 'ends': 1511, '2016': 34, 'upvoted': 4706, 'following': 1783, 'explanation': 1615, 'situations': 4044, 'tsm': 4617, 'basement': 438, 'past': 3209, 'decades': 1216, 'shared': 3955, 'number': 3054, 'channel': 806, 'knew': 2487, 'delete': 1241, 'weeks': 4841, 'jets': 2408, 'loving': 2690, 'happens': 2047, 'shoot': 3988, 'ar': 301, 'local': 2651, 'taste': 4387, 'piss': 3298, 'literal': 2631, 'brothers': 639, 'doubt': 1375, 'lul': 2699, 'da': 1172, 'stupid': 4290, 'cheap': 820, 'production': 3454, 'solo': 4107, 'ult': 4649, 'scrub': 3873, 'scrubs': 3874, 'lying': 2702, 'hillary': 2130, 'deny': 1255, 'later': 2529, 'accept': 103, 'valid': 4729, 'blocks': 552, 'stage': 4198, 'club': 912, 'dancing': 1185, 'friend': 1838, 'closed': 907, 'eventually': 1567, 'kicked': 2464, 'episode': 1538, 'afraid': 163, 'leak': 2551, 'seems': 3902, 'quickly': 3538, 'family': 1659, 'victims': 4751, 'depends': 1258, 'cough': 1084, 'joking': 2425, 'dank': 1189, 'cheese': 831, 'crit': 1132, 'average': 390, 'often': 3089, 'programming': 3463, 'level': 2586, 'losing': 2678, 'wouldnt': 4945, 'decided': 1220, 'weapon': 4828, 'unique': 4673, 'mechanic': 2788, '30': 48, 'useless': 4716, 'compared': 981, 'less': 2579, 'bitch': 529, 'troll': 4599, 'growth': 1993, 'exactly': 1583, 'rare': 3574, 'defending': 1231, 'saw': 3839, 'flat': 1764, 'earth': 1446, 'map': 2744, 'laughed': 2532, 'california': 704, 'hit': 2143, 'ice': 2217, 'rather': 3580, 'asia': 336, 'debt': 1214, 'survive': 4344, 'words': 4925, 'clean': 888, 'blast': 542, 'cruise': 1140, 'unless': 4681, 'posts': 3386, '16': 18, 'worry': 4937, 'higher': 2125, 'breaking': 620, 'balls': 419, 'allowing': 211, 'plane': 3310, 'destroyed': 1278, 'lil': 2613, 'style': 4291, 'naturally': 2973, 'hanging': 2043, 'non': 3026, 'individual': 2294, 'million': 2846, 'crazy': 1112, 'typing': 4638, 'touch': 4551, 'noticed': 3042, 'volume': 4768, 'affects': 160, 'race': 3543, 'color': 940, 'religion': 3656, 'cake': 703, 'ed': 1461, 'incredibly': 2286, 'clock': 904, '2013': 31, 'ending': 1510, 'fault': 1676, 'three': 4483, 'matches': 2765, 'court': 1097, 'order': 3135, 'fruit': 1845, 'case': 757, 'says': 3842, 'story': 4262, 'shipping': 3972, '50': 69, 'daily': 1176, 'fine': 1737, 'successful': 4299, 'coach': 921, 'fox': 1820, 'coaching': 923, 'chicago': 837, 'neighbors': 2995, 'picture': 3281, 'st': 4193, 'july': 2437, 'fresh': 1836, 'delicious': 1243, 'sam': 3815, 'ah': 181, 'remember': 3662, 'existence': 1598, 'heavy': 2096, 'approved': 298, 'designed': 1270, 'promoting': 3471, 'ad': 133, 'shill': 3968, 'weather': 4833, '80': 81, '90': 84, 'stat': 4215, 'holy': 2161, 'helped': 2106, 'concept': 998, 'tests': 4435, 'tagged': 4367, 'especially': 1550, 'federal': 1686, 'afford': 161, 'college': 939, 'students': 4285, 'administration': 144, 'limits': 2616, 'bar': 431, 'property': 3477, 'rid': 3729, 'till': 4507, 'rush': 3794, 'loan': 2648, 'student': 4284, 'construction': 1034, 'struggle': 4281, 'items': 2381, 'superior': 4323, 'above': 96, 'photo': 3268, '60': 74, 'states': 4220, 'gun': 2009, 'honest': 2166, 'yourself': 4989, 'emotions': 1500, 'solid': 4106, 'radical': 3550, 'islam': 2368, 'assumption': 355, 'fighting': 1717, 'presidency': 3416, 'helpful': 2107, 'strong': 4279, 'improved': 2267, 'himself': 2132, 'become': 472, 'improvement': 2268, 'invisible': 2349, 'looks': 2667, 'americans': 235, 'replace': 3673, 'photos': 3269, 'written': 4953, 'records': 3622, 'holocaust': 2160, 'japan': 2393, 'units': 4676, 'goals': 1940, 'attack': 368, 'killing': 2472, 'news': 3008, 'related': 3645, 'sports': 4180, 'korea': 2498, 'felt': 1700, 'terms': 4423, 'investment': 2348, 'infrastructure': 2304, 'term': 4422, 'health': 2084, '14': 15, 'ping': 3293, 'difference': 1308, 'hopefully': 2174, 'reach': 3591, 'admit': 145, 'protecting': 3481, 'nasty': 2966, 'country': 1092, 'men': 2807, 'shirts': 3975, 'inside': 2314, 'broken': 635, 'recently': 3617, 'couple': 1095, 'fashion': 1671, 'est': 1554, 'shall': 3950, 'brain': 610, 'seeing': 3898, 'rick': 3728, 'promise': 3468, 'supposed': 4333, 'voters': 4772, 'log': 2656, 'information': 2302, 'levels': 2587, 'trash': 4580, 'date': 1195, 'mail': 2717, 'capable': 735, 'legacy': 2564, 'nvidia': 3058, 'neither': 2996, 'status': 4225, 'establishment': 1555, 'seats': 3885, 'cocaine': 927, 'prime': 3433, 'bike': 518, 'theft': 4447, 'steal': 4231, 'theirs': 4449, 'combo': 949, 'lock': 2653, 'cops': 1066, 'testing': 4434, 'write': 4950, 'android': 248, 'studio': 4287, 'arc': 305, 'exist': 1596, 'purpose': 3516, 'swing': 4352, 'dnc': 1347, 'advice': 155, 'documentary': 1351, 'home': 2162, 'link': 2620, 'roster': 3777, 'characters': 810, 'addition': 140, 'potatoes': 3389, 'ama': 227, 'weak': 4825, 'basic': 439, 'scenario': 3848, 'conspiracy': 1030, 'yea': 4969, 'wins': 4898, 'mage': 2712, 'shield': 3966, 'scared': 3846, 'necessarily': 2985, 'actors': 129, 'organization': 3140, 'somewhere': 4119, 'prior': 3437, 'prepare': 3412, 'el': 1482, 'character': 809, 'complaining': 988, 'princess': 3435, 'walked': 4785, 'behind': 483, 'axe': 401, 'brains': 611, 'extremely': 1623, 'marijuana': 2747, 'mike': 2839, 'companies': 977, 'listed': 2627, 'decent': 1218, 'boy': 605, 'turkey': 4620, 'under': 4659, 'wearing': 4831, 'clothes': 909, 'understood': 4664, 'watching': 4818, 'main': 2718, 'chosen': 856, 'famous': 1660, 'box': 603, 'explains': 1614, 'joke': 2423, 'un': 4654, 'affect': 158, 'skins': 4054, 'patch': 3213, 'notes': 3039, 'added': 137, 'experts': 1610, 'return': 3715, 'empire': 1502, 'fake': 1649, 'worthless': 4941, 'mission': 2874, 'egg': 1477, 'skin': 4052, 'filled': 1725, 'carrying': 754, 'competition': 985, 'multiple': 2941, 'bans': 430, 'accounts': 112, 'banned': 427, 'wasnt': 4810, 'happening': 2046, 'hacked': 2016, 'reply': 3676, 'max': 2773, 'bother': 593, 'bruh': 645, 'woah': 4912, 'arm': 317, 'dlc': 1344, 'miss': 2871, 'inb4': 2270, 'net': 3002, 'previous': 3426, 'chaos': 807, 'along': 215, 'mistakes': 2879, 'ahh': 183, 'rng': 3750, 'hero': 2113, 'mostly': 2918, 'subreddit': 4294, 'haters': 2066, 'minority': 2861, 'official': 3087, 'chelsea': 832, 'website': 4835, 'discount': 1327, 'aww': 400, 'century': 787, 'eastern': 1451, 'rich': 3726, 'spawn': 4151, 'scout': 3864, 'manage': 2735, 'camp': 715, 'hands': 2041, 'strip': 4278, 'dies': 1306, 'beginning': 481, 'gee': 1889, 'nope': 3030, 'crappy': 1110, 'christmas': 862, 'refuse': 3635, 'stand': 4201, 'fam': 1656, 'dumb': 1426, 'shits': 3979, 'intent': 2332, 'shame': 3951, 'hungry': 2206, 'op': 3112, 'coffee': 931, 'rings': 3741, 'fun': 1857, 'cleaning': 889, 'eggs': 1478, 'toilet': 4528, 'paper': 3188, 'walls': 4790, 'buys': 695, 'rate': 3577, 'offering': 3082, 'current': 1159, 'imo': 2254, 'favourite': 1679, 'politician': 3358, 'hai': 2028, 'silly': 4027, 'injured': 2306, 'told': 4529, 'draft': 1386, 'potentially': 3391, 'leg': 2563, 'injury': 2308, 'discovered': 1328, 'teach': 4397, 'yay': 4967, 'toxic': 4559, 'falling': 1652, 'amd': 230, 'potential': 3390, 'belt': 496, 'covered': 1101, 'hmm': 2147, 'identity': 2224, 'politics': 3360, 'stone': 4252, 'poll': 3361, 'proved': 3487, '70': 79, '10k': 10, 'rock': 3757, 'feels': 1695, 'legion': 2570, 'santa': 3824, 'western': 4852, 'posting': 3385, 'psn': 3498, 'sets': 3933, 'sale': 3811, 'normal': 3032, 'manager': 2738, 'luck': 2695, 'spray': 4183, 'likely': 2610, 'effective': 1472, 'prevent': 3425, 'flying': 1773, 'cock': 928, 'german': 1905, 'engineering': 1519, 'trees': 4587, 'whenever': 4861, 'claims': 881, 'assume': 352, 'brother': 638, 'known': 2495, 'rating': 3581, 'somehow': 4113, 'gone': 1951, 'seem': 3900, 'austin': 379, 'blood': 554, 'protest': 3484, 'longer': 2663, 'streaming': 4269, 'gaming': 1876, 'content': 1038, 'umm': 4653, 'jokes': 2424, 'im': 2244, 'doesnt': 1356, 'understand': 4662, 'bullets': 667, 'quit': 3540, 'farm': 1667, 'met': 2820, 'wrestling': 4949, 'asked': 341, 'slide': 4065, 'fits': 1752, 'lore': 2672, 'tank': 4380, 'options': 3132, 'aw': 392, 'hearing': 2089, 'grandpa': 1973, 'sweet': 4350, 'gang': 1877, 'tire': 4515, 'sadly': 3803, 'trial': 4589, 'hand': 2038, 'cuz': 1170, 'filthy': 1729, 'origin': 3141, 'costs': 1081, 'cards': 745, 'tiny': 4512, 'keys': 2462, 'phone': 3266, 'fallout': 1653, 'sucking': 4303, 'amp': 241, 'ahead': 182, 'stating': 4221, 'rules': 3790, 'horrible': 2177, 'id': 2219, 'art': 327, 'future': 1866, 'terrorist': 4429, 'jealous': 2399, 'champion': 796, 'homeless': 2163, 'morning': 2915, '28': 44, 'places': 3307, 'aim': 188, 'likes': 2611, 'alpha': 217, 'beta': 506, 'shoulda': 4001, 'awful': 398, 'otherwise': 3147, 'idiot': 2226, 'boss': 588, 'monday': 2902, 'bound': 599, 'pistol': 3300, 'wheel': 4858, 'showing': 4007, 'little': 2633, 'chair': 792, 'beer': 478, 'usa': 4711, 'elo': 1492, 'eaten': 1454, 'lifetime': 2602, 'physically': 3273, 'consistently': 1027, 'nuclear': 3051, 'congrats': 1013, 'search': 3881, 'thinking': 4466, 'starting': 4212, 'seat': 3884, 'upcoming': 4693, 'week': 4838, 'supporters': 4329, 'sides': 4015, 'triggered': 4595, 'anytime': 273, 'supposedly': 4334, 'finding': 1735, 'allows': 212, 'noise': 3025, 'changes': 804, 'canon': 732, 'netflix': 3003, 'guide': 2006, 'solution': 4108, 'laws': 2536, 'consider': 1023, 'russell': 3795, 'matters': 2771, 'bringing': 629, 'attempt': 372, 'goodness': 1954, 'kills': 2473, 'woman': 4914, 'remotely': 3665, 'reminds': 3664, 'base': 435, 'calm': 709, '24': 39, 'conversation': 1055, 'wild': 4884, 'simple': 4030, 'trumps': 4611, 'returns': 3716, 'criticism': 1134, 'towards': 4556, 'limit': 2614, 'iron': 2362, 'bolt': 566, 'sharp': 3958, 'capacity': 736, 'sue': 4307, 'foreign': 1797, 'governments': 1966, 'ability': 91, 'crimes': 1127, 'essentially': 1553, 'stick': 4243, 'tab': 4362, 'fill': 1724, 'lost': 2681, 'smart': 4074, 'somewhat': 4118, 'effectively': 1473, 'hardly': 2055, 'skill': 4050, 'stopped': 4254, 'cop': 1064, 'understanding': 4663, 'pushed': 3518, 'ban': 420, 'socks': 4097, 'paid': 3176, 'note': 3038, 'door': 1370, 'crap': 1109, 'hole': 2156, 'reality': 3602, 'keeps': 2455, 'memes': 2804, 'alright': 219, 'biggest': 516, 'mistake': 2877, 'career': 747, 'assumed': 353, 'tons': 4538, 'yep': 4977, 'wood': 4923, 'missed': 2872, 'checked': 826, 'twice': 4627, '200': 25, 'per': 3240, 'tone': 4535, 'voice': 4766, 'martin': 2757, 'throwing': 4489, 'regardless': 3637, 'housing': 2188, 'situation': 4043, 'reports': 3680, 'happen': 2044, 'across': 120, 'living': 2638, 'gives': 1925, 'specific': 4157, 'released': 3651, 'incorrect': 2280, 'fraud': 1827, 'southern': 4141, 'northern': 3035, 'iraq': 2358, 'fit': 1751, 'press': 3419, 'awkward': 399, 'engine': 1517, 'corrupt': 1077, 'data': 1194, 'eating': 1455, 'alive': 203, 'boot': 580, 'host': 2182, 'void': 4767, 'movement': 2929, 'poster': 3384, 'tech': 4406, 'voting': 4774, 'corruption': 1078, 'democratic': 1252, 'moms': 2900, 'yell': 4974, 'example': 1584, 'church': 865, 'dj': 1343, 'neat': 2984, 'core': 1069, 'originally': 3143, 'rocket': 3758, 'finish': 1741, 'noob': 3029, 'surprised': 4341, 'vr': 4776, 'connection': 1018, 'via': 4748, 'usb': 4712, 'independent': 2288, 'users': 4719, 'sources': 4139, 'legitimate': 2573, 'strategy': 4267, 'voter': 4771, 'progress': 3465, 'upon': 4700, 'accurate': 114, 'player': 3323, 'paste': 3211, 'bird': 524, 'reset': 3697, 'gates': 1883, 'started': 4210, 'tomorrow': 4533, 'uhh': 4646, 'london': 2661, 'quarter': 3530, 'lead': 2543, '2nd': 47, '3rd': 60, 'string': 4277, 'requires': 3694, 'gas': 1881, 'station': 4222, 'campus': 719, 'apartment': 279, 'crack': 1107, 'division': 1341, 'root': 3775, 'master': 2762, 'floor': 1769, 'killed': 2470, 'nato': 2971, 'forces': 1794, 'history': 2142, 'travel': 4581, 'rank': 3566, 'smite': 4081, 'sunday': 4321, 'donald': 1364, 'played': 3322, 'sucked': 4302, 'learned': 2553, 'iirc': 2236, 'community': 975, 'christ': 858, 'former': 1808, 'original': 3142, 'edition': 1466, 'liar': 2590, 'committed': 969, 'crime': 1126, 'wilson': 4888, 'nsa': 3048, 'disappointed': 1325, 'cast': 760, 'buddy': 653, 'pokemon': 3349, 'gen': 1893, 'relationship': 3646, 'ghosts': 1914, 'shooting': 3990, 'lights': 2607, 'okay': 3096, 'brings': 630, 'effort': 1476, 'rogue': 3762, 'fbi': 1681, 'agents': 174, 'rigged': 3737, 'mo': 2887, 'girls': 1921, 'cameras': 714, 'drag': 1388, 'camera': 713, 'names': 2963, 'battlefield': 453, 'sad': 3802, 'earn': 1443, 'rainbow': 3556, 'sticks': 4247, 'rip': 3743, 'abuse': 99, 'scream': 3865, 'chips': 849, 'area': 307, 'cloud': 911, 'suddenly': 4306, 'odds': 3073, 'promote': 3470, 'boring': 586, 'gameplay': 1872, 'thinks': 4467, 'sexually': 3945, 'eh': 1480, 'genius': 1900, 'county': 1094, 'jail': 2390, 'michigan': 2832, 'double': 1374, 'accepted': 105, 'define': 1234, 'involved': 2351, 'perspective': 3255, 'ready': 3598, 'response': 3702, 'animals': 254, 'fucked': 1849, 'turns': 4624, 'bowl': 602, 'pad': 3173, 'office': 3084, 'anti': 266, 'islamic': 2369, 'differently': 1310, 'normally': 3033, 'believing': 491, 'saint': 3808, 'cigarettes': 867, 'police': 3351, 'action': 123, 'victim': 4750, 'incredible': 2285, 'empty': 1505, 'feeling': 1693, 'easily': 1449, 'whining': 4868, 'spring': 4186, 'pull': 3501, 'retail': 3709, 'environment': 1536, 'entitled': 1534, 'humans': 2201, 'charity': 815, 'cases': 758, 'helping': 2108, 'hiding': 2123, 'afaik': 157, 'reviews': 3721, 'dreams': 1397, 'dodge': 1352, 'offense': 3078, 'jr': 2433, 'wash': 4807, 'mandatory': 2739, 'australia': 380, 'anybody': 269, 'hurts': 2213, 'batteries': 450, 'oil': 3094, 'etc': 1556, 'restaurant': 3706, 'si': 4011, 'fly': 1772, 'scotland': 3862, 'coast': 925, 'properly': 3476, 'baby': 404, 'guilty': 2007, 'labour': 2505, 'brexit': 623, 'wealth': 4826, 'capital': 737, 'prefer': 3409, 'japanese': 2394, 'actor': 128, 'british': 632, 'accent': 102, 'twitch': 4630, 'thunder': 4494, 'offered': 3081, 'willing': 4887, 'groups': 1989, 'shown': 4008, 'themselves': 4452, 'saudi': 3831, 'shopping': 3993, 'ace': 116, 'vanilla': 4735, 'culture': 1150, 'misogynist': 2868, 'massive': 2761, 'elect': 1484, 'ignorant': 2232, 'list': 2626, 'skyrim': 4057, 'holding': 2154, 'major': 2723, 'dragon': 1389, 'confused': 1011, 'downvote': 1379, 'dallas': 1177, 'ti': 4497, 'sex': 3940, 'evolution': 1578, 'needed': 2990, 'particular': 3197, 'species': 4156, 'population': 3370, 'direction': 1316, 'simply': 4031, 'chance': 800, 'survival': 4343, 'ultimate': 4650, 'lucky': 2697, 'random': 3563, 'yours': 4988, 'um': 4652, 'tier': 4502, 'cost': 1080, 'lizard': 2639, 'version': 4745, 'sony': 4124, 'cycle': 1171, 'ironic': 2363, 'dna': 1346, 'heaven': 2094, 'brought': 640, 'harsh': 2060, 'request': 3690, 'custom': 1163, 'size': 4046, 'scene': 3849, 'weight': 4842, 'discussion': 1332, 'truth': 4614, 'stories': 4260, 'women': 4915, 'slut': 4071, 'shaming': 3952, 'bored': 585, 'excuse': 1593, 'liquid': 2625, 'result': 3707, 'wasted': 4812, 'front': 1843, 'during': 1431, 'stole': 4250, 'everytime': 1574, 'meet': 2795, 'failing': 1642, 'smile': 4080, 'aspect': 345, 'consistent': 1026, 'warm': 4800, 'sun': 4320, 'technically': 4408, 'adult': 148, 'houston': 2189, 'taxes': 4392, 'circlejerk': 870, 'latest': 2530, 'subtle': 4297, 'unfortunately': 4670, 'figured': 1720, 'letter': 2583, 'talked': 4376, 'supporter': 4328, 'theres': 4457, 'robot': 3755, 'joined': 2421, 'regularly': 3641, 'join': 2420, 'torture': 4547, 'choice': 851, 'upside': 4704, 'waiting': 4782, 'fiction': 1711, 'ordered': 3136, 'console': 1028, 'lack': 2506, 'overall': 3159, 'franchise': 1825, 'onto': 3109, 'nhl': 3012, 'fourth': 1819, 'repost': 3681, 'choose': 853, 'app': 281, 'access': 107, 'thousand': 4476, 'corn': 1070, 'entertaining': 1530, 'kid': 2466, 'perfectly': 3244, 'bothered': 594, 'remind': 3663, 'congress': 1015, 'global': 1932, 'warming': 4801, 'glorious': 1933, 'numbers': 3055, 'compete': 984, 'hide': 2122, 'birthday': 527, 'ios': 2352, 'efficient': 1475, 'insane': 2312, 'ftfy': 1846, 'everyday': 1571, 'message': 2816, 'nova': 3043, 'naked': 2960, 'roof': 3772, 'beast': 463, 'texas': 4436, 'soldiers': 4104, 'ears': 1445, 'creepy': 1124, 'autistic': 385, 'judge': 2434, 'hes': 2117, 'industry': 2296, 'slowly': 4070, 'personality': 3253, 'exists': 1600, 'surprising': 4342, 'machine': 2706, 'signs': 4024, 'vagina': 4728, 'internal': 2338, 'claim': 878, 'xd': 4961, 'commenting': 962, 'tells': 4419, 'profit': 3460, 'kept': 2458, 'button': 691, '32': 51, 'influence': 2300, 'guessing': 2005, 'thoughts': 4475, 'arent': 311, 'standards': 4203, 'colorado': 941, '12': 12, 'peace': 3228, 'crying': 1144, 'winning': 4897, 'region': 3638, 'winter': 4899, 'shadow': 3947, 'priest': 3431, 'match': 2764, 'stay': 4226, 'legit': 2572, 'deadly': 1205, 'including': 2277, 'ip': 2353, 'retirement': 3714, 'michael': 2831, 'hadn': 2022, 'ignore': 2233, 'pulling': 3503, 'supporting': 4330, 'sweden': 4349, 'somebody': 4112, 'hang': 2042, 'lame': 2514, 'justify': 2445, 'gays': 1886, 'financial': 1733, 'hi': 2120, 'telling': 4418, 'drama': 1393, 'knife': 2488, 'anger': 250, 'duck': 1421, 'available': 389, 'freaking': 1829, 'cats': 768, 'plain': 3308, 'upset': 4703, 'releases': 3652, 'plus': 3336, 'disease': 1333, 'ps4': 3496, 'sooooo': 4130, 'boston': 590, 'detroit': 1284, 'washington': 4808, 'ain': 189, 'forms': 1809, 'correct': 1075, 'markets': 2752, 'freeze': 1833, 'record': 3620, 'publicly': 3500, 'feed': 1689, 'ego': 1479, 'cold': 936, 'worthy': 4942, 'prove': 3486, 'award': 393, 'championship': 798, 'uneducated': 4665, 'counter': 1089, 'lewis': 2588, 'semi': 3912, 'appreciate': 293, 'garbage': 1879, 'pet': 3257, 'birth': 526, 'throat': 4485, 'micro': 2833, 'input': 2311, 'dammit': 1179, 'politicians': 3359, 'attacks': 371, 'abilities': 90, 'pop': 3367, 'passive': 3207, 'lan': 2515, 'pitch': 3302, 'narrative': 2964, 'updates': 4696, 'device': 1292, 'entry': 1535, 'wages': 4779, 'opponents': 3120, 'ohio': 3093, 'distance': 1338, 'guaranteed': 1999, 'form': 1806, 'karma': 2450, 'salty': 3814, 'hold': 2153, 'attacked': 369, 'hiring': 2138, 'classic': 886, 'tag': 4366, 'rap': 3568, 'hunter': 2208, 'lady': 2509, 'medical': 2791, 'lies': 2599, 'easiest': 1448, 'ghost': 1913, 'repeat': 3672, 'business': 683, '2014': 32, 'deserve': 1266, 'trap': 4579, 'missions': 2875, 'ball': 418, 'spot': 4181, 'cpu': 1106, 'sell': 3909, '150': 17, 'windows': 4892, 'lately': 2528, 'hats': 2070, 'popular': 3369, 'wet': 4853, 'hated': 2065, 'nba': 2979, 'cunt': 1153, 'discussing': 1331, 'react': 3593, 'devil': 1294, 'goddamn': 1943, 'highest': 2126, 'pixels': 3303, 'phil': 3264, 'liberty': 2594, 'upvote': 4705, 'stranger': 4265, 'growing': 1991, 'jerry': 2404, 'boner': 571, 'adds': 143, 'height': 2099, 'rated': 3578, 'site': 4040, 'tired': 4516, 'ships': 3973, 'ship': 3971, 'employee': 1503, 'sent': 3918, 'facing': 1634, 'punishment': 3509, 'wizard': 4911, 'moment': 2898, 'isnt': 2372, 'youre': 4987, 'iq': 2356, 'treated': 4583, 'education': 1469, 'privilege': 3443, 'laid': 2511, 'direct': 1315, 'buff': 655, 'uses': 4720, 'armor': 319, 'brilliant': 627, 'reverse': 3719, 'feminism': 1703, 'invented': 2345, 'feminists': 1705, 'large': 2522, 'corporations': 1074, 'sitting': 4042, 'finally': 1731, 'missing': 2873, 'halloween': 2033, 'implying': 2260, 'shouldn': 4003, 'fist': 1750, '26': 42, '27': 43, 'george': 1903, 'owning': 3166, 'whose': 4876, 'kelly': 2457, 'warrior': 4803, 'light': 2604, 'lightning': 2606, 'ring': 3740, 'mod': 2890, 'walmart': 4791, 'parties': 3199, 'suspicious': 4346, 'various': 4738, 'reasons': 3610, 'korean': 2499, 'worlds': 4934, 'pointing': 3345, 'spreading': 4185, 'license': 2596, '600': 75, 'episodes': 1539, 'sleeping': 4063, 'promised': 3469, 'hp': 2193, 'curry': 1161, 'guard': 2000, 'disc': 1326, 'function': 1858, 'select': 3905, 'circle': 869, 'brown': 641, 'considering': 1025, 'aside': 339, 'degree': 1237, 'increase': 2281, 'chances': 801, 'landing': 2517, 'paris': 3193, '3ds': 59, 'collect': 937, 'wanting': 4795, 'sexist': 3942, 'project': 3467, 'adding': 139, 'flag': 1759, 'creating': 1116, 'personally': 3254, 'supports': 4331, 'working': 4931, 'stands': 4205, 'afterwards': 167, 'murder': 2943, 'refs': 3632, 'fuckin': 1851, 'learning': 2554, 'valuable': 4730, 'lesson': 2580, 'gary': 1880, 'lay': 2539, 'miracle': 2865, 'pipe': 3295, 'active': 125, 'sky': 4056, 'helps': 2109, 'sleep': 4062, 'ie': 2229, 'moving': 2933, 'value': 4731, 'williams': 4886, 'tradition': 4567, 'lowest': 2693, 'omg': 3102, 'multi': 2939, 'hired': 2137, 'rb': 3589, 'agency': 171, 'savage': 3832, 'scored': 3860, 'hat': 2063, 'translation': 4578, 'climate': 900, 'sucks': 4304, 'bite': 533, 'cookies': 1060, 'chocolate': 850, 'chip': 848, 'heavily': 2095, 'hoax': 2150, 'fuel': 1854, 'controls': 1052, 'kinds': 2478, 'nazi': 2977, 'leaders': 2545, 'fund': 1859, 'raising': 3559, 'republican': 3687, 'leaving': 2558, 'error': 1547, 'messages': 2817, 'lions': 2624, 'edgy': 1463, 'mainstream': 2720, 'uk': 4647, 'colors': 943, 'info': 2301, 'spend': 4167, 'ol': 3097, 'symbol': 4357, 'bill': 519, 'drinks': 1403, 'pills': 3290, 'dat': 1193, 'class': 884, 'flow': 1771, '40': 61, 'rolls': 3767, 'tie': 4500, 'ben': 497, 'screens': 3868, 'jack': 2387, 'italian': 2378, 'nowhere': 3047, 'anime': 256, 'saved': 3834, 'created': 1115, 'pray': 3405, 'prayer': 3406, 'demand': 1248, 'position': 3376, 'redditors': 3626, 'throughout': 4487, 'study': 4288, '00': 0, 'image': 2245, 'member': 2801, 'heroin': 2115, 'prince': 3434, 'children': 844, 'digital': 1313, '2017': 35, 'stickers': 4245, 'town': 4558, 'expert': 1609, 'actively': 126, 'stars': 4208, 'achievement': 118, 'turned': 4622, 'manner': 2740, 'mentioned': 2812, 'highly': 2127, 'articles': 329, 'fall': 1650, 'total': 4548, 'sidebar': 4014, 'enter': 1528, 'spaces': 4144, 'assault': 348, 'battery': 451, 'sum': 4318, 'greater': 1978, 'parts': 3201, 'tits': 4522, 'neck': 2987, 'group': 1988, 'north': 3034, 'held': 2100, 'planning': 3314, 'bucks': 651, 'caught': 769, 'drunk': 1418, 'britain': 631, 'asian': 337, 'demon': 1254, 'father': 1675, 'son': 4120, 'banks': 426, 'opposite': 3123, 'surface': 4338, 'gpu': 1967, 'convinced': 1058, '2015': 33, 'titans': 4519, 'further': 1865, 'iphone': 2355, 'parents': 3192, 'mount': 2923, 'shes': 3963, 'sexy': 3946, 'stream': 4268, 'baseball': 436, 'minimum': 2855, 'allowed': 210, 'pink': 3294, 'suspect': 4345, 'navy': 2975, 'favor': 1677, 'ive': 2386, 'listening': 2630, '5th': 73, 'pure': 3513, 'bastion': 446, 'informed': 2303, 'objective': 3065, 'ton': 4534, 'annoying': 260, 'becoming': 474, 'mexico': 2828, 'twin': 4628, 'pathetic': 3215, 'boat': 561, 'tested': 4433, 'answers': 265, 'mirror': 2866, 'useful': 4715, 'tall': 4379, 'hits': 2145, 'causing': 773, 'coins': 934, 'allow': 209, 'hello': 2103, 'itt': 2384, 'beaten': 465, 'strange': 4264, 'quote': 3542, 'buffalo': 656, 'rewards': 3724, 'wont': 4921, 'advantage': 152, 'spoken': 4178, 'describe': 1262, 'trains': 4574, 'soo': 4125, 'mm': 2884, 'toy': 4560, 'teaching': 4400, 'timing': 4511, 'purely': 3514, 'push': 3517, 'failed': 1641, 'meat': 2787, 'sanders': 3821, 'bell': 492, 'oppression': 3127, 'foot': 1787, 'youtube': 4991, 'subject': 4293, 'domestic': 1362, 'grey': 1984, 'respond': 3701, 'analogy': 244, 'phones': 3267, 'server': 3928, 'athletes': 362, 'coaches': 922, 'staying': 4228, 'suck': 4301, 'prepared': 3413, 'cm': 916, 'ny': 3059, 'ca': 699, 'forward': 1812, 'firing': 1746, 'trade': 4564, 'agreement': 180, 'international': 2339, 'enforcement': 1516, 'intellectual': 2328, 'points': 3347, 'rape': 3569, 'deep': 1226, 'plate': 3319, 'frank': 1826, 'significantly': 4022, 'wheels': 4859, 'dice': 1298, 'ye': 4968, 'charges': 813, 'visit': 4764, 'referring': 3631, 'mid': 2835, '85': 83, 'opposed': 3122, 'pays': 3226, 'difficult': 1311, 'spread': 4184, 'dozen': 1383, 'item': 2380, 'several': 3939, 'clever': 894, 'download': 1378, 'mode': 2891, 'terrifying': 4425, 'sir': 4037, 'breaks': 621, 'clothing': 910, 'bridge': 625, 'syria': 4359, 'sea': 3878, 'monopoly': 2906, 'retired': 3713, 'pm': 3338, 'train': 4571, 'convert': 1056, 'aa': 89, 'additional': 141, 'ticket': 4498, 'automatic': 387, 'issues': 2376, 'managed': 2736, 'historical': 2140, 'scientific': 3856, 'accuracy': 113, 'pizza': 3304, 'muscle': 2947, 'cut': 1166, 'puppet': 3511, 'tracks': 4563, 'assuming': 354, 'track': 4562, 'aswell': 356, 'arizona': 316, 'whats': 4856, 'pointless': 3346, 'unplayable': 4687, 'creative': 1117, 'fucks': 1853, 'pal': 3182, 'rent': 3670, 'cartoon': 756, 'gordon': 1958, 'specifically': 4158, 'mixed': 2882, 'died': 1305, '4th': 68, 'yo': 4981, 'treat': 4582, 'bank': 425, 'proving': 3493, 'language': 2519, 'angle': 251, 'tournament': 4555, 'specs': 4159, 'dps': 1384, 'nerfed': 3001, 'lunch': 2700, 'ratings': 3582, 'dem': 1247, '000': 1, 'pissed': 3299, 'produced': 3452, 'marvel': 2758, 'owned': 3163, 'perhaps': 3247, 'stretch': 4274, 'anywhere': 276, 'manual': 2742, 'plays': 3328, 'room': 3774, 'racing': 3546, 'ugly': 4644, 'bitches': 530, 'society': 4096, 'offer': 3080, 'inches': 2272, 'agent': 173, 'library': 2595, 'socialist': 4094, 'acts': 130, 'books': 577, 'chicks': 840, 'guitar': 2008, 'sooo': 4128, 'reporting': 3679, 'wikipedia': 4883, 'blocking': 551, 'union': 4671, 'selling': 3910, 'sick': 4012, 'tips': 4514, 'objects': 3066, 'ideas': 2221, 'unlimited': 4684, 'proper': 3475, 'convince': 1057, 'separate': 3920, 'minded': 2850, 'wifi': 4880, 'becomes': 473, 'dangerous': 1188, 'science': 3855, 'socially': 4095, 'table': 4363, 'score': 3859, 'smash': 4076, 'sin': 4032, 'ugh': 4643, 'tolerance': 4530, 'smooth': 4085, 'sing': 4034, 'subreddits': 4295, 'friendly': 1839, 'progressive': 3466, 'cheaper': 821, 'fixed': 1756, 'steel': 4235, 'sound': 4135, 'third': 4468, 'cross': 1136, 'street': 4270, 'leads': 2548, 'expected': 1603, 'statement': 4218, 'planes': 3311, 'dream': 1396, 'nightmare': 3019, 'factory': 1637, 'forgetting': 1802, 'bits': 534, 'roll': 3765, 'colour': 944, 'ourselves': 3151, 'required': 3692, 'officer': 3085, 'rift': 3735, 'lower': 2692, 'practice': 3402, 'taco': 4364, 'hire': 2136, 'farming': 1668, 'edit': 1464, 'cooler': 1063, 'allies': 208, 'typo': 4639, 'command': 959, 'standard': 4202, 'everybody': 1570, 'ex': 1581, 'butter': 689, 'window': 4891, '47': 65, 'terrorism': 4428, 'notice': 3041, 'craft': 1108, 'phrase': 3271, 'facts': 1638, 'hating': 2068, 'trans': 4576, 'politically': 3357, 'checkmate': 828, 'soccer': 4091, 'invest': 2346, 'ladder': 2507, 'confusing': 1012, 'gore': 1959, 'controlled': 1049, 'planet': 3312, 'pro': 3446, 'files': 1723, 'ways': 4823, 'program': 3462, 'er': 1545, 'ouch': 3148, 'cover': 1099, 'existing': 1599, 'conditions': 1003, 'unknown': 4680, 'contracts': 1044, 'traditional': 4568, 'building': 661, 'mask': 2759, 'named': 2962, 'improve': 2266, 'qualified': 3528, 'harry': 2059, 'performance': 3246, 'ap': 277, 'illuminati': 2243, 'josh': 2429, 'oops': 3111, 'food': 1784, 'france': 1824, 'competitive': 986, 'spaghetti': 4145, 'maximum': 2774, 'hype': 2215, 'generally': 1896, 'remake': 3661, 'cult': 1148, 'scenes': 3850, 'theater': 4446, 'audience': 377, 'whore': 4875, 'comrade': 996, 'bias': 511, 'male': 2730, 'cnn': 919, 'fb': 1680, '25': 40, 'instantly': 2321, 'bacon': 409, 'wasting': 4813, 'suggested': 4312, 'anyways': 275, 'mighty': 2838, 'def': 1227, 'pilot': 3291, 'unbiased': 4656, 'jason': 2396, 'alex': 200, 'houses': 2187, 'chick': 838, 'secretly': 3892, 'easier': 1447, 'minds': 2851, 'drone': 1410, 'wire': 4901, 'addiction': 138, 'economics': 1459, 'system': 4360, 'al': 195, 'graphics': 1974, 'benefits': 501, 'believed': 489, 'meeting': 2796, 'panel': 3185, 'india': 2289, 'stolen': 4251, 'decide': 1219, 'struggling': 4282, 'tim': 4508, 'van': 4734, 'attacking': 370, 'measure': 2786, 'hall': 2032, 'knock': 2491, 'silver': 4028, 'cruz': 1142, 'primary': 3432, 'poverty': 3394, 'teacher': 4398, 'stops': 4256, 'traffic': 4569, 'spare': 4150, 'senate': 3913, 'amendment': 232, 'silent': 4026, 'speeds': 4162, 'energy': 1514, 'pat': 3212, 'hurting': 2212, 'shorter': 3995, 'heh': 2098, 'refer': 3628, 'wr': 4947, 'qb': 3527, 'insulting': 2324, 'bottle': 596, 'results': 3708, 'sales': 3812, 'cash': 759, 'arena': 310, 'pa': 3168, 'dual': 1420, 'terrible': 4424, 'weekly': 4840, 'updated': 4695, 'bench': 498, 'category': 766, 'sheeple': 3961, 'israel': 2373, 'alliance': 207, 'golden': 1949, 'retire': 3712, 'user': 4717, 'truck': 4606, 'complete': 989, 'plants': 3317, 'fellow': 1699, 'conservatives': 1022, 'generation': 1897, 'length': 2576, 'samsung': 3818, 'maps': 2745, 'bubble': 650, 'milk': 2844, 'besides': 503, 'pepper': 3239, 'mouth': 2926, 'ruining': 3787, 'river': 3749, 'vision': 4763, 'period': 3248, 'bonus': 573, 'rear': 3606, 'plastic': 3318, 'mother': 2919, 'bait': 415, 'lag': 2510, 'nexus': 3010, 'jimmy': 2413, '970': 87, '1080': 8, '1070': 7, '1060': 6, 'civil': 876, 'banning': 429, 'jump': 2438, 'bosses': 589, 'james': 2391, 'exciting': 1591, 'dedicated': 1225, 'choices': 852, 'visual': 4765, 'guardian': 2001, 'doom': 1369, 'fps': 1821, 'planned': 3313, 'brah': 609, 'speak': 4152, 'shows': 4009, 'loud': 2685, 'di': 1296, 'se': 3877, 'gta': 1995, 'dance': 1184, 'viable': 4749, 'poop': 3364, 'opportunity': 3121, 'backup': 407, 'ur': 4708, 'format': 1807, 'geez': 1890, 'expecting': 1604, 'display': 1337, 'representation': 3683, 'intelligent': 2330, 'handed': 2039, 'authority': 383, 'pope': 3368, 'bears': 462, 'catholic': 767, 'bullying': 670, 'tony': 4539, 'rodgers': 3761, 'sexual': 3943, 'military': 2843, 'tm': 4524, 'balance': 416, 'grandma': 1972, 'republic': 3686, 'que': 3531, 'los': 2673, 'fool': 1785, '360': 56, 'interview': 2341, 'factor': 1636, 'censorship': 782, 'apparently': 282, 'communist': 974, 'roads': 3752, 'pvp': 3526, 'defense': 1232, 'road': 3751, 'pee': 3233, 'powerful': 3397, 'wide': 4878, 'areas': 308, 'comparing': 982, 'range': 3565, 'steve': 4241, 'dave': 1198, 'heat': 2093, 'suit': 4316, 'vehicles': 4744, 'nerd': 2998, 'pics': 3280, 'classes': 885, 'cunts': 1154, 'decks': 1224, 'shut': 4010, 'damned': 1181, 'continue': 1041, 'surely': 4337, 'browns': 642, 'champions': 797, 'witcher': 4906, 'bag': 413, 'radio': 3551, 'ran': 3562, 'sold': 4102, 'placed': 3306, 'cancel': 724, 'downvotes': 1381, 'suits': 4317, 'billion': 520, 'signed': 4020, 'cuck': 1147, '55': 71, 'families': 1658, 'services': 3931, 'delay': 1240, 'removing': 3669, 'definition': 1236, 'raid': 3553, 'effects': 1474, 'poorly': 3366, 'fries': 1841, 'david': 1199, 'ohh': 3092, 'policy': 3353, 'duty': 1435, 'basis': 441, 'funding': 1861, 'recognize': 3618, 'outrage': 3155, 'immigration': 2252, 'glasses': 1930, 'chill': 845, 'remain': 3659, 'despite': 1275, 'knowledge': 2494, 'ik': 2237, 'scare': 3845, '18': 20, 'plant': 3316, 'edge': 1462, 'technology': 4409, 'split': 4174, 'tries': 4593, 'identical': 2222, 'm8': 2703, 'signing': 4023, 'sister': 4038, 'microsoft': 2834, 'thus': 4495, 'moves': 2930, 'celebrate': 778, 'impact': 2255, 'elections': 1487, 'complain': 987, 'decade': 1215, 'product': 3453, 'ebay': 1457, 'dating': 1196, 'relationships': 3647, 'break': 618, 'ups': 4702, 'apps': 299, 'knees': 2486, 'raise': 3557, 'fairly': 1646, 'fought': 1813, 'evil': 1577, 'walks': 4787, 'presidential': 3418, 'coin': 932, 'advertising': 154, 'role': 3763, 'hint': 2133, 'neighbor': 2993, 'realistic': 3601, 'theory': 4454, 'prank': 3404, 'suggest': 4311, 'professional': 3457, 'jumping': 2439, 'contact': 1037, 'debate': 1213, 'penalty': 3235, 'text': 4437, 'defensive': 1233, 'replaced': 3674, 'defender': 1230, 'typically': 4637, 'poor': 3365, 'responsible': 3704, 'happiness': 2048, 'nu': 3050, 'special': 4155, 'unit': 4674, 'retarded': 3711, 'feedback': 1690, 'creator': 1118, 'hearts': 2092, 'picking': 3278, 'allah': 205, 'amirite': 236, 'gop': 1957, 'bay': 454, 'filter': 1728, 'subs': 4296, 'slaves': 4061, 'slavery': 4060, 'nations': 2969, 'imaginary': 2247, 'olds': 3100, 'comcast': 950, 'reliable': 3655, 'insight': 2315, 'truly': 4609, 'begin': 480, 'broke': 634, 'legs': 2574, 'blown': 558, 'smells': 4078, 'burning': 678, 'machines': 2707, 'randomly': 3564, 'tickets': 4499, 'ill': 2240, 'shell': 3962, 'shocked': 3983, 'makeup': 2728, 'thousands': 4477, 'fed': 1685, 'bright': 626, 'opponent': 3119, 'trusted': 4613, 'tanks': 4381, 'titles': 4521, 'strike': 4275, 'dota': 1373, 'immune': 2253, 'squad': 4189, 'starter': 4211, 'sniper': 4088, 'rifle': 3733, 'ho': 2149, 'frame': 1822, 'ceiling': 777, 'constant': 1031, 'stuck': 4283, 'justified': 2444, 'mall': 2732, 'island': 2370, 'petty': 3261, 'employees': 1504, 'customer': 1164, 'loading': 2646, 'square': 4190, 'skills': 4051, 'constitution': 1033, 'applied': 290, 'lawyers': 2538, 'hacker': 2017, 'minor': 2859, 'covering': 1102, 'aggressive': 176, 'writing': 4952, 'flight': 1766, 'sacrifice': 3801, 'lord': 2671, 'satan': 3827, 'wayne': 4822, 'appropriate': 295, 'savior': 3838, 'sigh': 4016, '34': 54, 'matt': 2769, 'adventure': 153, 'bbc': 456, 'eye': 1624, 'atm': 365, 'fix': 1755, 'existed': 1597, 'butt': 688, 'summer': 4319, 'supported': 4327, 'finished': 1742, 'perform': 3245, 'drain': 1391, 'havent': 2073, 'software': 4100, 'receive': 3613, 'market': 2750, 'mate': 2766, 'appeal': 283, 'apply': 292, 'laptop': 2521, 'galaxy': 1870, 'busy': 686, 'bottom': 597, 'folk': 1779, 'january': 2392, 'taught': 4390, 'angry': 252, 'tour': 4554, 'nearly': 2983, 'detail': 1281, 'present': 3415, 'shower': 4006, 'tattoo': 4389, 'trust': 4612, 'certain': 789, 'deserves': 1268, 'regret': 3639, 'privacy': 3441, 'honor': 2169, 'crush': 1141, 'bones': 572, 'bread': 617, 'bathroom': 448, 'pain': 3177, 'urban': 4709, 'playoff': 3326, 'murdering': 2945, 'answered': 264, 'audio': 378, 'valve': 4733, 'mario': 2748, 'pocket': 3340, 'beard': 461, 'method': 2824, '21': 36, 'tears': 4405, 'dr': 1385, 'acceptable': 104, 'desperate': 1274, 'systems': 4361, 'equivalent': 1544, 'edited': 1465, 'consumer': 1036, '1000': 4, 'research': 3696, 'kanye': 2448, 'paint': 3179, 'natural': 2972, 'faith': 1648, 'england': 1521, 'downvoted': 1380, 'depending': 1257, 'assassin': 347, 'pair': 3180, 'mvp': 2952, 'teammates': 4402, 'dying': 1436, 'heal': 2082, 'insult': 2323, 'gg': 1912, 'silence': 4025, 'basketball': 442, 'shots': 3999, 'figures': 1721, 'pr': 3400, 'members': 2802, 'offensive': 3079, 'click': 896, 'section': 3893, 'shiny': 3970, 'applies': 291, 'features': 1684, 'receiving': 3615, 'twist': 4629, 'wore': 4926, 'jeans': 2400, 'wedding': 4836, 'arrow': 325, 'ripped': 3744, 'extended': 1620, 'lebron': 2559, 'finals': 1732, 'luckily': 2696, 'genuinely': 1902, '400': 62, 'percentage': 3242, 'picks': 3279, 'raw': 3587, 'dare': 1190, 'insert': 2313, 'trickle': 4591, 'believes': 490, 'je': 2398, 'het': 2118, 'neighborhood': 2994, 'talent': 4373, 'commit': 968, 'native': 2970, 'shotgun': 3998, 'shock': 3982, 'raving': 3586, 'rain': 3555, 'indeed': 2287, 'depression': 1260, 'roles': 3764, 'selfish': 3908, 'redditor': 3625, 'pic': 3275, 'escape': 1549, 'la': 2501, 'serious': 3924, 'cam': 711, 'stats': 4224, 'mediocre': 2793, 'legendary': 2568, 'bomb': 567, 'drops': 1415, 'frames': 1823, 'drake': 1392, 'upgraded': 4698, 'goal': 1938, 'destroy': 1277, 'tool': 4542, 'built': 664, 'indian': 2290, 'delivery': 1245, 'fingers': 1740, 'thin': 4462, 'ward': 4798, 'mental': 2808, 'stem': 4236, 'icon': 2218, 'math': 2768, 'minions': 2857, 'fools': 1786, 'controlling': 1051, 'focus': 1776, 'queen': 3532, 'healthcare': 2085, 'sport': 4179, 'peoples': 3238, 'rarely': 3575, 'bus': 681, 'gender': 1894, 'enemies': 1512, 'hopes': 2175, 'chat': 818, 'jon': 2426, 'snow': 4089, 'hence': 2110, 'fallen': 1651, 'arsenal': 326, 'pun': 3505, 'shoes': 3987, 'mah': 2716, 'driving': 1409, 'junk': 2441, 'soul': 4133, 'burger': 675, 'platform': 3320, 'poison': 3348, 'idk': 2228, 'block': 549, 'hunting': 2209, 'punch': 3506, 'grand': 1971, 'cleveland': 893, 'roman': 3768, 'ruins': 3788, 'package': 3171, 'married': 2754, 'darn': 1192, 'upvotes': 4707, 'focused': 1777, 'depth': 1261, 'chase': 817, 'le': 2542, 'lakers': 2513, 'alien': 201, 'slow': 4068, 'drug': 1416, 'dealer': 1207, 'dealing': 1208, 'brawl': 614, 'crossed': 1137, 'recording': 3621, 'review': 3720, 'spin': 4171, 'brb': 616, 'humor': 2203, 'loved': 2687, 'port': 3372, 'convenient': 1054, 'impressive': 2265, 'four': 1818, 'counting': 1090, 'orange': 3134, 'setting': 3934, 'grow': 1990, 'beef': 476, 'equipment': 1543, 'transfer': 4577, 'mess': 2815, 'es': 1548, 'mob': 2888, 'hail': 2029, 'prices': 3428, 'coincidence': 933, 'sounded': 4136, 'particularly': 3198, '60fps': 76, 'april': 300, 'rifles': 3734, 'fancy': 1662, 'counts': 1093, 'benefit': 500, 'fights': 1718, 'kevin': 2459, 'stress': 4273, 'ooh': 3110, 'cuts': 1168, 'dudes': 1423, 'holes': 2157, 'fish': 1748, 'adam': 134, 'pressure': 3421, 'acid': 119, 'cook': 1059, 'object': 3064, 'limited': 2615, 'bye': 697, 'nuke': 3052, 'stayed': 4227, 'continues': 1042, 'killer': 2471, 'animation': 255, 'sake': 3809, 'nail': 2959, 'classy': 887, 'raped': 3570, 'loss': 2679, 'humanity': 2200, 'coverage': 1100, 'grown': 1992, 'miami': 2829, 'smoking': 4084, 'explode': 1616, 'outta': 3157, 'melt': 2800, 'menu': 2813, 'nsfw': 3049, 'jew': 2409, 'fully': 1856, 'gods': 1944, 'condition': 1002, 'boost': 579, 'burns': 679, 'alot': 216, 'cheat': 822, 'secure': 3894, 'abortion': 93, 'mini': 2854, 'blind': 546, 'ads': 147, 'breath': 622, 'ha': 2014, 'grind': 1985, 'followed': 1782, 'rational': 3584, 'possibility': 3379, 'dan': 1183, 'hates': 2067, 'bronze': 636, 'critical': 1133, 'logical': 2658, 'settings': 3935, 'hacks': 2020, 'flip': 1768, 'driver': 1406, 'warriors': 4804, 'saturday': 3829, 'mon': 2901, 'gap': 1878, 'blatant': 543, 'necessary': 2986, 'ties': 4503, 'consent': 1019, 'manning': 2741, 'wine': 4893, 'obese': 3063, 'rude': 3784, 'dry': 1419, 'robin': 3754, 'stronger': 4280, 'civilians': 877, 'wealthy': 4827, 'ray': 3588, 'dinner': 1314, 'dis': 1320, 'maintenance': 2722, 'israeli': 2374, 'hundreds': 2205, 'tronald': 4602, 'wake': 4783, 'destiny': 1276, 'brick': 624, 'entertainment': 1531, 'magazine': 2711, '42': 63, 'illness': 2242, 'boom': 578, 'premium': 3411, 'tiger': 4504, 'ii': 2235, 'sometime': 4116, 'emperor': 1501, 'revolution': 3722, 'fee': 1688, 'pace': 3169, 'bombs': 569, 'welp': 4847, 'trigger': 4594, 'realized': 3604, 'sean': 3880, 'wallet': 4789, 'assholes': 351, 'economy': 1460, 'candy': 729, 'praise': 3403, 'pesky': 3256, 'atheist': 360, 'muslims': 2950, 'meth': 2823, '75': 80, 'shoe': 3986, 'claimed': 879, 'solved': 4110, 'electric': 1488, 'soda': 4098, 'aka': 194, 'imgur': 2249, 'crew': 1125, 'economic': 1458, 'philosophy': 3265, 'champ': 795, 'dc': 1202, 'plz': 3337, 'shady': 3948, 'priority': 3439, 'brutal': 646, 'dig': 1312, 'jeff': 2402, 'trolls': 4601, 'anonymous': 261, 'contributing': 1046, 'ipad': 2354, 'conference': 1005, 'cancelled': 725, 'ma': 2704, 'bitter': 535, 'pill': 3289, 'print': 3436, 'gift': 1918, 'masters': 2763, 'soldier': 4103, 'listened': 2629, 'ak': 193, 'rounds': 3780, 'falls': 1654, 'tip': 4513, 'hook': 2171, 'gain': 1868, 'cos': 1079, 'raised': 3558, 'instagram': 2317, 'bear': 460, 'exercise': 1595, 'petition': 3259, 'heads': 2081, 'chrome': 863, 'browser': 643, 'arms': 320, 'details': 1282, 'uncomfortable': 4658, 'experiences': 1608, 'messed': 2818, 'alternate': 222, 'seemed': 3901, 'serial': 3922, 'films': 1727, 'sonic': 4123, 'moon': 2911, 'walk': 4784, 'heroes': 2114, 'familiar': 1657, 'territory': 4426, 'web': 4834, 'technical': 4407, 'foul': 1814, 'dress': 1398, 'adults': 149, 'robots': 3756, 'cousin': 1098, 'privileged': 3444, 'howard': 2191, 'rough': 3778, 'theme': 4451, 'sink': 4036, 'patient': 3216, 'officers': 3086, 'criminal': 1128, 'threatening': 4481, 'cow': 1104, 'orders': 3137, 'ryan': 3799, 'storage': 4257, 'wipe': 4900, 'contract': 1043, 'horror': 2178, 'owns': 3167, 'pit': 3301, 'crowd': 1138, 'apologize': 280, 'ez': 1626, 'drinking': 1402, 'fyi': 1867, 'conclusion': 1001, 'nor': 3031, '17': 19, 'loses': 2677, 'tea': 4396, 'follow': 1781, 'quest': 3533, 'bastards': 445, 'stock': 4249, 'meaning': 2782, 'kit': 2482, 'cinematic': 868, 'mature': 2772, 'clone': 905, 'leading': 2547, 'sjw': 4048, 'lab': 2502, 'scientist': 3857, 'refugees': 3633, 'swear': 4348, 'giants': 1916, 'yards': 4966, 'carrier': 752, 'didnt': 1303, 'excited': 1590, 'sane': 3823, 'decision': 1221, 'chuck': 864, 'skip': 4055, 'impossible': 2262, 'sized': 4047, 'colored': 942, 'seattle': 3886, 'russians': 3798, 'moral': 2912, 'deaths': 1212, 'suffering': 4309, 'cultural': 1149, 'studies': 4286, 'ppl': 3399, 'wise': 4903, 'og': 3090, 'forgotten': 1805, 'memories': 2805, 'cum': 1152, 'racial': 3545, 'brave': 613, 'march': 2746, 'bags': 414, 'potato': 3388, 'percent': 3241, 'six': 4045, 'training': 4573, 'comic': 956, 'attractive': 376, 'johnny': 2418, 'aint': 190, 'appearance': 285, '35': 55, 'partner': 3200, 'experienced': 1607, 'chemistry': 834, 'ireland': 2359, 'trip': 4597, 'ratio': 3583, 'regarding': 3636, 'snake': 4086, 'belongs': 494, 'jeez': 2401, 'lee': 2561, 'flame': 1762, 'clips': 903, 'footage': 1788, 'covers': 1103, 'tough': 4553, 'costume': 1082, 'goku': 1947, 'cherry': 835, 'advance': 150, 'bros': 637, 'buffs': 657, 'supply': 4325, 'punished': 3508, 'trophy': 4604, 'boo': 574, 'yard': 4965, 'punk': 3510, 'zone': 4998, 'arabia': 303, 'address': 142, 'ages': 175, 'gf': 1911, 'complicated': 992, 'relatively': 3648, 'abortions': 94, 'nights': 3020, 'kings': 2480, 'goalie': 1939, 'pakistan': 3181, 'knight': 2489, 'magically': 2715, 'dislike': 1335, 'canadians': 723, 'resolution': 3698, 'res': 3695, '1080p': 9, 'grammar': 1970, 'affected': 159, 'min': 2848, 'cc': 775, 'poc': 3339, 'buttons': 692, 'ac': 101, 'keeper': 2453, 'immigrants': 2251, 'uh': 4645, 'huh': 2198, 'fails': 1643, 'fence': 1706, 'aids': 187, 'cure': 1156, 'forcing': 1795, 'rookie': 3773, 'terror': 4427, 'husband': 2214, 'gtx': 1997, 'candidates': 728, 'legends': 2569, 'kobe': 2497, 'shooter': 3989, 'nukes': 3053, 'tied': 4501, 'atlanta': 363, 'thankfully': 4441, 'flawless': 1765, 'hammer': 2037, 'whoa': 4872, 'gym': 2013, 'hospital': 2181, 'thick': 4461, 'screenshot': 3869, 'claiming': 880, 'gems': 1892, 'hockey': 2152, 'atleast': 364, 'reasoning': 3609, 'legally': 2566, '22': 37, 'ew': 1580, 'cmon': 918, 'metric': 2825, 'replacement': 3675, 'script': 3872, 'shocking': 3985, 'terrorists': 4430, 'ammo': 237, 'sample': 3817, 'vape': 4736, 'equally': 1542, 'settle': 3936, 'invite': 2350, 'failure': 1644, 'bin': 523, '800': 82, 'pump': 3504, 'melee': 2799, 'sight': 4017, 'operation': 3116, 'accident': 108, 'spit': 4173, 'sequel': 3921, 'identify': 2223, 'va': 4724, 'waited': 4781, 'beyond': 509, 'plug': 3335, 'positions': 3377, 'deserved': 1267, 'attitude': 374, 'desert': 1265, 'che': 819, 'express': 1619, 'deals': 1209, 'historically': 2141, 'bass': 443, 'fighter': 1715, 'awareness': 395, 'risk': 3747, 'thrown': 4490, 'solely': 4105, 'germans': 1906, 'kidding': 2467, 'gem': 1891, 'iv': 2385, 'regulation': 3642, 'sticking': 4246, 'european': 1561, 'invade': 2343, 'biased': 512, 'gloves': 1935, 'jet': 2407, 'trading': 4566, 'hitting': 2146, 'driven': 1405, 'bloody': 555, 'linux': 2623, 'ranked': 3567, 'wolf': 4913, 'among': 238, 'passed': 3204, 'lift': 2603, 'fnatic': 1775, 'incoming': 2279, 'bodies': 563, 'ocean': 3071, 'barely': 432, 'tuesday': 4618, 'salary': 3810, 'row': 3782, 'mega': 2797, 'phase': 3263, 'rocks': 3760, 'muslim': 2949, 'exchange': 1589, 'wind': 4890, 'tonight': 4537, 'cowboys': 1105, 'pros': 3478, 'wave': 4820, 'paul': 3223, 'lake': 2512, 'impression': 2264, 'network': 3004, 'spoiler': 4176, 'fifa': 1713, 'c9': 698, 'spamming': 4148, 'saving': 3836, 'shark': 3957, 'germany': 1907, 'pets': 3260, 'versions': 4746, 'badass': 411, 'unable': 4655, 'fighters': 1716, 'pretending': 3423, 'comedy': 953, 'com': 945, 'steven': 4242, 'vast': 4739, 'chief': 841, 'collection': 938, 'shhh': 3965, 'goat': 1941, 'dunno': 1430, 'worries': 4936, 'instant': 2320, 'irish': 2360, 'suffer': 4308, 'loves': 2689, 'devices': 1293, 'conflict': 1010, 'yelling': 4975, 'chapter': 808, 'saves': 3835, 'songs': 4122, 'comp': 976, 'statements': 4219, '90s': 85, 'nut': 3056, 'gotcha': 1962, 'require': 3691, 'entirely': 1533, 'blaming': 541, 'champs': 799, 'iran': 2357, 'bust': 685, 'damnit': 1182, 'pattern': 3222, 'triple': 4598, 'hop': 2172, 'dang': 1186, 'developer': 1288, 'mic': 2830, 'laser': 2525, 'forums': 1811, 'kim': 2474, 'bombing': 568, 'announce': 257, 'bend': 499, 'patriarchy': 3217, 'crash': 1111, 'spanish': 4149, 'forever': 1800, 'land': 2516, 'steak': 4230, 'analysis': 245, 'dropping': 1414, '1v1': 23, 'excellent': 1586, 'co': 920, 'belong': 493, 'era': 1546, 'superman': 4324, 'rito': 3748, 'focusing': 1778, 'hearthstone': 2091, 'feminist': 1704, 'conservative': 1021, 'commercial': 964, 'pieces': 3285, 'arrest': 323, 'stays': 4229, 'tail': 4368, 'dumbass': 1427, 'location': 2652, 'arrested': 324, 'development': 1291, 'centre': 785, 'invasion': 2344, 'teenage': 4412, 'fucker': 1850, 'viewers': 4756, 'australian': 381, 'hill': 2129, 'destruction': 1280, 'businesses': 684, 'products': 3456, 'destroying': 1279, 'causes': 772, 'wing': 4894, 'treatment': 4585, 'lovely': 2688, 'inferior': 2297, 'commercials': 965, 'savings': 3837, 'ladies': 2508, 'equal': 1540, 'unlock': 4685, 'rice': 3725, 'stealth': 4233, 'upload': 4699, 'kiss': 2481, 'pin': 3292, 'kappa': 2449, 'pointed': 3344, 'holiday': 2158, 'hah': 2023, 'ss': 4192, 'flash': 1763, 'murica': 2946, 'http': 2195, 'explained': 1612, 'lesbian': 2577, 'confident': 1007, 'halo': 2034, 'legend': 2567, 'yeh': 4973, 'liking': 2612, 'emergency': 1498, 'jacket': 2388, 'ram': 3561, 'nicely': 3014, 'painful': 3178, 'stopping': 4255, 'leaves': 2557, 'ham': 2035, 'podcast': 3342, 'purple': 3515, 'lvl': 2701, 'hurr': 2210, 'durr': 1432, 'installed': 2319, 'remaining': 3660, 'dropped': 1413, 'alert': 199, 'desire': 1271, 'bob': 562, '5k': 72, 'ea': 1437, 'lied': 2598, 'harm': 2057, 'skinny': 4053, 'panic': 3186, 'wonderful': 4918, 'florida': 1770, 'justin': 2446, 'funnier': 1863, 'supreme': 4335, 'reached': 3592, 'productive': 3455, 'stated': 4217, 'spirit': 4172, 'unlikely': 4683, 'olympics': 3101, 'billions': 521, 'heck': 2097, 'provided': 3491, 'batman': 449, 'mil': 2840, 'hip': 2134, 'ps': 3494, 'programs': 3464, 'smaller': 4073, 'ftw': 1847, 'engineer': 1518, 'funded': 1860, 'creators': 1119, 'democrat': 1251, 'pulled': 3502, 'firearms': 1744, 'hobby': 2151, 'lighting': 2605, 'intelligence': 2329, 'badly': 412, 'barrel': 433, 'shills': 3969, 'setup': 3937, 'worried': 4935, 'cell': 779, 'rates': 3579, 'cup': 1155, 'bold': 565, 'forgive': 1803, 'ignorance': 2231, 'nyc': 3060, 'creep': 1123, 'unemployed': 4666, 'combat': 946, 'boots': 581, 'tongue': 4536, 'spy': 4188, 'portal': 3373, 'shh': 3964, 'dutch': 1434, 'servers': 3929, 'freak': 1828, 'drawing': 1395, 'blizzard': 547, 'clubs': 913, 'ron': 3770, 'solve': 4109, 'values': 4732, 'chemicals': 833, 'uncle': 4657, 'gosh': 1960, 'odd': 3072, 'misleading': 2867, 'consequences': 1020, 'secondary': 3889, 'income': 2278, 'mormon': 2914, 'theyre': 4460, 'criticize': 1135, 'mentality': 2809, 'clap': 883, 'mmr': 2886, 'pretend': 3422, 'realise': 3600, 'een': 1470, 'feature': 1683, 'rage': 3552, 'copies': 1065, 'headline': 2079, 'proves': 3489, 'commie': 966, 'screaming': 3866, 'teeth': 4414, 'outcome': 3153, 'unpopular': 4688, 'bow': 601, 'fantastic': 1664, '29': 45, 'holds': 2155, 'headed': 2078, 'excuses': 1594, 'naw': 2976, 'meanwhile': 2785, 'checking': 827, 'purchase': 3512, 'wrap': 4948, 'route': 3781, 'riot': 3742, 'switching': 4355, 'knives': 2490, 'concern': 999, 'talented': 4374, 'vacation': 4726, 'apples': 288, 'dae': 1175, 'complex': 991, 'threats': 4482, 'cage': 702, 'practically': 3401, 'hardware': 2056, 'builds': 663, 'ruined': 3786, 'scientists': 3858, 'loose': 2669, 'reduce': 3627, 'fees': 1696, 'maintain': 2721, 'males': 2731, 'medicine': 2792, 'cream': 1113, 'tf2': 4438, 'criminals': 1129, 'cannon': 730, 'unrealistic': 4689, 'msm': 2936, 'gross': 1986, 'victory': 4752, 'traitor': 4575, 'tactics': 4365, 'examples': 1585, 'peasant': 3231, 'rob': 3753, 'doors': 1371, 'democracy': 1250, 'impressed': 2263, 'bugs': 659, 'rise': 3745, 'stalin': 4199, 'moments': 2899, 'violent': 4760, 'jpg': 2432, 'rat': 3576, 'bandwagon': 423, 'frequently': 1835, 'chris': 857, 'romney': 3769, 'parent': 3190, 'gm': 1936, 'socialism': 4093, 'witch': 4905, 'ufc': 4642, 'activity': 127, 'clicking': 898, 'grade': 1969, 'doctors': 1350, 'enforce': 1515, 'camping': 717, 'hipster': 2135, 'asses': 349, 'rapists': 3573, 'lineup': 2619, 'shake': 3949, 'genocide': 1901, 'arguing': 313, 'mmm': 2885, 'boxes': 604, 'disabled': 1322, 'investigation': 2347, 'mercy': 2814, 'fitting': 1753, 'elaborate': 1483, 'yah': 4964, 'led': 2560, 'bout': 600, 'constantly': 1032, 'serve': 3926, 'drafted': 1387, 'con': 997, 'sticker': 4244, 'tap': 4382, 'shop': 3992, 'clan': 882, 'offers': 3083, 'nuts': 3057, 'chain': 791, 'lawyer': 2537, 'finds': 1736, 'discuss': 1330, 'described': 1263, 'soviet': 4142, 'sandwich': 3822, 'ethics': 1557, '64': 77, 'spells': 4166, 'providing': 3492, 'unrelated': 4690, 'jar': 2395, 'closer': 908, 'monkey': 2905, 'lo': 2643, 'libertarian': 2593, 'healing': 2083, 'queue': 3536, 'moderate': 2894, 'arguments': 315, 'removal': 3666, 'demo': 1249, 'blowing': 557, 'whereas': 4863, '2008': 27, 'pregnant': 3410, 'homes': 2164, 'wonders': 4920, 'concerned': 1000, 'cable': 700, 'frozen': 1844, 'shitlord': 3977, 'gamer': 1873, 'seahawks': 3879, 'seven': 3938, 'kd': 2451, 'beauty': 469, 'condoms': 1004, 'belief': 486, 'ensure': 1527, 'slot': 4067, 'cena': 781, 'tolerant': 4531, 'hahahaha': 2026, 'diversity': 1340, 'swap': 4347, 'humble': 2202, 'officially': 3088, 'budget': 654, 'produce': 3451, 'gains': 1869, 'jersey': 2405, 'application': 289, 'hardcore': 2052, 'rapist': 3572, 'virus': 4762, 'professor': 3458, 'ted': 4410, 'unfortunate': 4669, 'november': 3044, 'hmmm': 2148, 'quiet': 3539, 'birds': 525, 'exposed': 1618, 'bitching': 531, 'curse': 1162, 'greece': 1980, 'medium': 2794, 'scale': 3843, 'mexican': 2826, 'spider': 4170, 'expansion': 1601, 'woo': 4922, 'bum': 671, 'hug': 2196, 'indie': 2293, 'os': 3144, 'corner': 1071, 'luke': 2698, 'nicer': 3015, 'bible': 513, 'ofc': 3075, 'mistaken': 2878, 'mls': 2883, '3d': 58, 'uber': 4640, 'mum': 2942, 'universal': 4677, 'nasa': 2965, 'bills': 522, 'pirates': 3297, '33': 53, 'increased': 2282, 'cis': 871, 'cia': 866, 'pats': 3221, 'leafs': 2549, 'motion': 2922, 'stereotype': 4239, 'knee': 2485, 'git': 1922, 'gud': 2002, 'largest': 2524, 'slower': 4069, 'selection': 3906, 'ikr': 2238, 'childhood': 843, 'nowadays': 3046, 'connect': 1016, 'madden': 2709, 'pound': 3392, 'honey': 2168, 'lel': 2575, 'bruce': 644, 'innocent': 2310, 'oregon': 3138, 'wut': 4958, 'suggesting': 4313, 'pressing': 3420, 'contribution': 1047, 'nerds': 2999, 'minorities': 2860, 'mining': 2856, 'bu': 649, 'insightful': 2316, 'bitcoin': 532, 'stadium': 4196, 'ours': 3150, 'worker': 4929, 'dev': 1285, 'jungle': 2440, 'poland': 3350, 'patrick': 3218, 'connected': 1017, 'flags': 1760, 'showed': 4005, 'jordan': 2428, 'pride': 3430, 'behavior': 482, 'safer': 3805, 'gravity': 1976, 'pirate': 3296, 'enjoying': 1525, 'adorable': 146, 'sexism': 3941, 'sarcastic': 3826, 'surgery': 4339, 'peanut': 3230, 'starbucks': 4207, 'brazil': 615, 'variety': 4737, 'balanced': 417, 'bars': 434, 'controversial': 1053, 'blog': 553, '95': 86, 'rose': 3776, 'monsters': 2908, 'kkk': 2484, 'patriot': 3219, 'emotional': 1499, 'burst': 680, 'races': 3544, 'tl': 4523, 'password': 3208, 'couldnt': 1087, 'aliens': 202, 'f1': 1627, 'correctly': 1076, 'joining': 2422, 'reads': 3597, 'client': 899, 'prick': 3429, 'priorities': 3438, 'xp': 4962, 'soooo': 4129, 'dragons': 1390, 'entering': 1529, 'writer': 4951, 'reward': 3723, 'breakfast': 619, 'fishing': 1749, 'sooner': 4127, 'cavs': 774, 'asians': 338, 'suggestion': 4314, 'polish': 3354, 'bungie': 674, 'arts': 332, 'served': 3927, 'locker': 2655, 'syndrome': 4358, 'desktop': 1273, 'challenger': 794, 'shirt': 3974, 'pleasure': 3330, 'doe': 1353, 'comeback': 952, 'eve': 1563, 'mothers': 2921, 'capitalist': 739, 'communism': 973, 'ancient': 246, 'jerk': 2403, 'peaceful': 3229, 'revenue': 3718, 'cheers': 830, 'vikings': 4758, 'christians': 861, 'delusional': 1246, 'zelda': 4993, 'adc': 135, 'helicopter': 2101, 'maker': 2726, 'downvoting': 1382, 'scumbag': 3876, 'zones': 4999, 'vegan': 4741, 'stereotypes': 4240, 'euro': 1559, 'f5': 1629, 'sand': 3820, 'allen': 206, 'afghanistan': 162, 'troops': 4603, 'wears': 4832, 'religions': 3657, 'boyfriend': 606, 'hr': 2194, 'spelled': 4164, 'hardest': 2054, 'magical': 2714, 'typical': 4636, 'ronaldo': 3771, 'kansas': 2447, 'views': 4757, 'marry': 2755, 'electricity': 1489, 'determine': 1283, 'earned': 1444, 'il': 2239, 'ashamed': 335, 'donations': 1366, 'protein': 3483, 'slave': 4059, 'computers': 995, 'butthurt': 690, 'mechanics': 2789, 'protected': 3480, 'forum': 1810, 'caps': 740, 'sli': 4064, 'cents': 786, 'camps': 718, 'evolved': 1579, 'contribute': 1045, 'borders': 584, 'labor': 2504, 'implement': 2256, 'banana': 421, 'carbon': 743, 'clutch': 915, 'dust': 1433, 'indians': 2292, 'explaining': 1613, 'shorts': 3996, 'blacks': 537, 'fart': 1669, 'scoring': 3861, 'reported': 3678, 'profits': 3461, 'tesla': 4431, 'comics': 957, 'teh': 4415, 'individuals': 2295, 'horse': 2179, 'educated': 1468, 'liverpool': 2636, 'kicking': 2465, 'choosing': 854, 'fetish': 1708, 'ate': 358, 'scheme': 3852, 'douche': 1376, 'lcs': 2541, 'f2p': 1628, 'portland': 3375, 'lesbians': 2578, 'charging': 814, 'brady': 608, 'europeans': 1562, 'triggering': 4596, 'approve': 297, 'african': 165, 'ninja': 3021, 'cables': 701, 'comparable': 979, 'goods': 1955, 'trained': 4572, 'university': 4679, 'letters': 2584, 'sensitive': 3917, 'presence': 3414, 'whites': 4870, 'rats': 3585, 'implied': 2258, 'richard': 3727, 'ford': 1796, 'wii': 4881, 'ps3': 3495, 'pile': 3288, 'amounts': 240, 'hahahahaha': 2027, 'ear': 1440, 'overrated': 3160, 'ceo': 788, 'neo': 2997, 'artists': 331, 'intel': 2327, 'christianity': 860, 'eagles': 1439, 'kin': 2475, 'autism': 384, 'banner': 428, 'burned': 677, 'increases': 2283, 'beach': 459, 'genetics': 1899, 'repair': 3671, 'teachers': 4399, 'elitist': 1491, '6th': 78, 'angel': 249, 'toronto': 4546, 'atmosphere': 366, 'mysterious': 2955, 'losses': 2680, 'staff': 4197, 'myth': 2956, 'jay': 2397, 'oppressive': 3128, 'bigot': 517, 'spurs': 4187, 'forbid': 1791, 'airport': 192, 'strikes': 4276, 'discrimination': 1329, 'armed': 318, 'minecraft': 2853, 'passes': 3205, 'helmet': 2104, 'fa': 1630, 'fascist': 1670, 'casuals': 762, 'recall': 3612, 'exploit': 1617, 'touching': 4552, 'gjallarhorn': 1927, 'outfit': 3154, 'comfortable': 955, 'elsewhere': 1494, 'italy': 2379, 'inherently': 2305, 'loaded': 2645, 'signal': 4019, 'rising': 3746, 'alternative': 223, 'atheists': 361, 'clearing': 891, 'sending': 3915, 'charlie': 816, 'task': 4386, 'pasta': 3210, 'warning': 4802, 'rig': 3736, 'lgbt': 2589, 'representative': 3684, 'nick': 3016, 'loop': 2668, 'greedy': 1981, 'pussies': 3520, 'shocker': 3984, 'accused': 115, 'raping': 3571, 'screwed': 3871, 'policies': 3352, 'speaks': 4154, 'welfare': 4845, 'inflation': 2299, 'catching': 765, 'reputation': 3689, '2011': 29, 'couch': 1083, 'whatsoever': 4857, 'watches': 4817, 'developing': 1290, 'bully': 669, 'loot': 2670, 'ms': 2935, 'vac': 4725, 'implemented': 2257, 'drew': 1400, 'exception': 1588, 'horses': 2180, 'teenagers': 4413, 'mentally': 2810, 'par': 3189, 'arab': 302, 'youth': 4990, 'permission': 3250, 'spoiled': 4175, 'del': 1239, '2k': 46, 'oppressed': 3125, 'dressed': 1399, 'psh': 3497, 'seek': 3899, 'attracted': 375, 'females': 1702, 'nbsp': 2980, 'anal': 243, 'eats': 1456, 'label': 2503, 'dive': 1339, 'constructive': 1035, 'royal': 3783, 'taylor': 4393, 'hacking': 2019, 'prize': 3445, 'opposition': 3124, 'slap': 4058, 'marketing': 2751, 'divorce': 1342, 'aid': 186, 'homophobic': 2165, 'asap': 334, 'sells': 3911, 'vp': 4775, 'appear': 284, 'relax': 3649, 'thumbnail': 4493, 'pfft': 3262, 'unnecessary': 4686, 'achieve': 117, 'obamacare': 3062, 'creatures': 1120, 'minister': 2858, '390': 57, 'puts': 3524, 'disagrees': 1324, 'gamers': 1874, 'parking': 3195, 'unfair': 4668, 'espn': 1551, 'integrity': 2326, 'headphones': 2080, 'caring': 750, 'underground': 4660, 'polite': 3355, 'television': 4416, '4chan': 66, 'srs': 4191, 'en': 1506, 'harper': 2058, 'languages': 2520, 'georgia': 1904, 'journalism': 2430, 'fixes': 1757, 'degrees': 1238, 'accepting': 106, 'jewish': 2410, 'smarter': 4075, 'represent': 3682, 'pleb': 3331, 'leadership': 2546, 'palestinians': 3184, 'clg': 895, 'jews': 2411, 'arabs': 304, 'represents': 3685, 'witty': 4910, 'hatred': 2069, 'credits': 1122, 'cells': 780, 'pig': 3286, 'fewer': 1710, 'bull': 665, 'trucks': 4607, 'depressed': 1259, '1050': 5, 'ferrari': 1707, 'spelling': 4165, 'compliment': 993, 'scam': 3844, 'increasing': 2284, 'lifestyle': 2601, 'guessed': 2004, 'oc': 3070, 'portion': 3374, 'racists': 3549, 'spain': 4146, 'pounds': 3393, 'sheep': 3960, 'fairness': 1647, 'starving': 4214, 'unexpected': 4667, 'punish': 3507, 'currency': 1158, 'rockets': 3759, 'ukraine': 4648, 'encourage': 1507, 'parenting': 3191, 'misunderstood': 2880, 'loans': 2649, 'corporation': 1073, 'unions': 4672, 'cheater': 823, 'generic': 1898, 'thug': 4492, 'neckbeard': 2988, 'shootings': 3991, 'calories': 710, 'equality': 1541, 'engineers': 1520, 'joy': 2431, 'cultures': 1151, 'optic': 3130, 'harassment': 2050, 'develop': 1286, '30fps': 50, 'misogyny': 2870, 'vaccines': 4727, 'organic': 3139, 'educate': 1467, 'pigs': 3287, 'foreigners': 1798, 'ubisoft': 4641, 'atheism': 359, 'palestinian': 3183, 'messi': 2819, 'blah': 539, 'misogynistic': 2869, 'cmd': 917, 'hamas': 2036, 'founders': 1817, 'mexicans': 2827, 'oppressing': 3126, 'totes': 4550, 'ziggo': 4995, 'commies': 967, 'appropriation': 296, 'bootstraps': 582, 'lm': 2641, 'flintstones': 1767, '3232': 52, 'wsgy': 4956}\n",
      "  (0, 4849)\t0.2828747882696299\n",
      "  (0, 4445)\t0.11828475563219985\n",
      "  (0, 3324)\t0.3572637480906179\n",
      "  (0, 3099)\t0.4461456423863165\n",
      "  (0, 3007)\t0.302108431028914\n",
      "  (0, 1790)\t0.18161029163394632\n",
      "  (0, 357)\t0.22837657582849782\n",
      "  (0, 187)\t0.5030364722125082\n",
      "  (0, 98)\t0.3871096691341009\n",
      "  (1, 4854)\t0.4307724224751123\n",
      "  (1, 3591)\t0.9024605919567475\n",
      "  (2, 4824)\t0.21069414778357246\n",
      "  (2, 4586)\t0.427741862199485\n",
      "  (2, 4033)\t0.3045598074434905\n",
      "  (2, 4010)\t0.3820788333327514\n",
      "  (2, 3105)\t0.22646114695835687\n",
      "  (2, 3069)\t0.28187766390209135\n",
      "  (2, 2989)\t0.2651266403113285\n",
      "  (2, 1982)\t0.38875247425592196\n",
      "  (2, 1377)\t0.29017951797398417\n",
      "  (2, 262)\t0.3123131784569071\n",
      "  (3, 4540)\t0.20844497653258037\n",
      "  (3, 4445)\t0.09256980368303501\n",
      "  (3, 4443)\t0.12022402053406159\n",
      "  (3, 2937)\t0.21632291679397125\n",
      "  :\t:\n",
      "  (707533, 471)\t0.19534306865307566\n",
      "  (707533, 247)\t0.14095494763073055\n",
      "  (707534, 4608)\t0.23220510422924043\n",
      "  (707534, 4469)\t0.1340909508649885\n",
      "  (707534, 4454)\t0.30406198889545943\n",
      "  (707534, 4445)\t0.08273854547528918\n",
      "  (707534, 4443)\t0.10745578141484749\n",
      "  (707534, 4090)\t0.14123159473952365\n",
      "  (707534, 3152)\t0.34367883059379295\n",
      "  (707534, 2951)\t0.21539871428209525\n",
      "  (707534, 2910)\t0.274275599939465\n",
      "  (707534, 2377)\t0.2133335559487556\n",
      "  (707534, 2366)\t0.11024456974925209\n",
      "  (707534, 1730)\t0.30434948756806224\n",
      "  (707534, 712)\t0.5259701305673923\n",
      "  (707534, 479)\t0.2112969420897029\n",
      "  (707534, 458)\t0.13685231128112374\n",
      "  (707534, 177)\t0.25933737832441756\n",
      "  (707535, 4983)\t0.17175189530445772\n",
      "  (707535, 4336)\t0.302979474957587\n",
      "  (707535, 4289)\t0.41048648105576185\n",
      "  (707535, 4111)\t0.31110276222286426\n",
      "  (707535, 3563)\t0.4645913399008302\n",
      "  (707535, 1348)\t0.2737950807137834\n",
      "  (707535, 935)\t0.5679892473344873\n"
     ]
    }
   ],
   "source": [
    "Train_X, Test_X, Train_Y, Test_Y = model_selection.train_test_split(df['comment'],df['label'],test_size=0.3)\n",
    "Encoder = LabelEncoder()\n",
    "Train_Y = Encoder.fit_transform(Train_Y)\n",
    "Test_Y = Encoder.fit_transform(Test_Y)\n",
    "\n",
    "Tfidf_vect = TfidfVectorizer(max_features=5000)\n",
    "Tfidf_vect.fit(df['comment'])\n",
    "Train_X = Tfidf_vect.transform(Train_X)\n",
    "Test_X = Tfidf_vect.transform(Test_X)\n",
    "print(Tfidf_vect.vocabulary_)\n",
    "print(Train_X)"
   ]
  },
  {
   "cell_type": "code",
   "execution_count": null,
   "metadata": {},
   "outputs": [],
   "source": [
    "# Train_X, Test_X, Train_Y, Test_Y = model_selection.train_test_split(tfidf_df.drop(\"label\", axis=1),tfidf_df['label'],test_size=0.3)"
   ]
  },
  {
   "cell_type": "code",
   "execution_count": 9,
   "metadata": {},
   "outputs": [
    {
     "name": "stdout",
     "output_type": "stream",
     "text": [
      "Naive Bayes Accuracy Score ->  65.99622070302838\n"
     ]
    }
   ],
   "source": [
    "# fit the training dataset on the NB classifier\n",
    "Naive = naive_bayes.MultinomialNB()\n",
    "Naive.fit(Train_X,Train_Y)\n",
    "# predict the labels on validation dataset\n",
    "predictions_NB = Naive.predict(Test_X)\n",
    "# Use accuracy_score function to get the accuracy\n",
    "print(\"Naive Bayes Accuracy Score -> \",accuracy_score(predictions_NB, Test_Y)*100)"
   ]
  },
  {
   "cell_type": "code",
   "execution_count": null,
   "metadata": {},
   "outputs": [],
   "source": [
    "# Classifier - Algorithm - SVM\n",
    "# fit the training dataset on the classifier\n",
    "SVM = svm.SVC(C=1.0, kernel='linear', degree=3, gamma='auto')\n",
    "SVM.fit(Train_X,Train_Y)\n",
    "# predict the labels on validation dataset\n",
    "predictions_SVM = SVM.predict(Test_X)\n",
    "# Use accuracy_score function to get the accuracy\n",
    "print(\"SVM Accuracy Score -> \",accuracy_score(predictions_SVM, Test_Y)*100)"
   ]
  }
 ],
 "metadata": {
  "kernelspec": {
   "display_name": "Python 3",
   "language": "python",
   "name": "python3"
  },
  "language_info": {
   "codemirror_mode": {
    "name": "ipython",
    "version": 3
   },
   "file_extension": ".py",
   "mimetype": "text/x-python",
   "name": "python",
   "nbconvert_exporter": "python",
   "pygments_lexer": "ipython3",
   "version": "3.6.9"
  }
 },
 "nbformat": 4,
 "nbformat_minor": 2
}
