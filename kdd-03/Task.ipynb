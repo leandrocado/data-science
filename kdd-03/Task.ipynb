{
 "cells": [
  {
   "cell_type": "code",
   "execution_count": 1,
   "metadata": {},
   "outputs": [],
   "source": [
    "import numpy as np\n",
    "import pandas as pd"
   ]
  },
  {
   "cell_type": "code",
   "execution_count": 2,
   "metadata": {},
   "outputs": [],
   "source": [
    "jogadores = pd.read_excel(\"JOGADORES_NBA.xlsx\")\n",
    "metricas_nba = pd.read_excel(\"METRICAS_NBA.xlsx\")"
   ]
  },
  {
   "cell_type": "code",
   "execution_count": 95,
   "metadata": {},
   "outputs": [],
   "source": [
    "# useful functions, keep them all here\n",
    "\n",
    "def quantile_replacement(dataset, identifier, lower, upper, method):\n",
    "    dataset = dataset.copy(deep=True)\n",
    "    \n",
    "    lower_quantile = dataset[identifier].quantile(lower)\n",
    "    upper_quantile = dataset[identifier].quantile(upper)\n",
    "\n",
    "    filter_matrix = (dataset[identifier] < upper_quantile) & (dataset[identifier] > lower_quantile)\n",
    "\n",
    "    try:\n",
    "        replacement = getattr(dataset[filter_matrix][identifier], method)()\n",
    "    except AttributeError:\n",
    "        raise ValueError(\"Invalid method: {}\".format(method))\n",
    "\n",
    "    dataset.loc[np.invert(filter_matrix), identifier] = replacement\n",
    "    return dataset"
   ]
  },
  {
   "cell_type": "code",
   "execution_count": 96,
   "metadata": {},
   "outputs": [
    {
     "name": "stdout",
     "output_type": "stream",
     "text": [
      "height 173.0 226.0 199.43174187208254\n",
      "weight 63.0 133.0 95.45299145299145\n",
      "TS% 0.046 0.85 0.4956298891315996\n",
      "FTr 0.01 1083.0 1.4394350268170109\n",
      "Set 1646 missing entries from column 'birth_city' as N/A.\n",
      "Set 1689 missing entries from column 'birth_state' as N/A.\n",
      "Set 2223 missing entries from column 'collage' as N/A.\n"
     ]
    }
   ],
   "source": [
    "# data pre-processing\n",
    "\n",
    "dataset = jogadores.merge(metricas_nba, on=(\"Player\"))\n",
    "\n",
    "for extremised_feature in (\"height\", \"weight\", \"TS%\", \"FTr\"):\n",
    "    dataset = quantile_replacement(dataset, extremised_feature, 0.003, 0.997, method=\"mean\")\n",
    "    print(extremised_feature, dataset[extremised_feature].min(),\n",
    "          dataset[extremised_feature].max(), dataset[extremised_feature].mean())\n",
    "\n",
    "for missing_data_feature in (\"birth_city\", \"birth_state\", \"collage\"):\n",
    "    dataset.loc[dataset[missing_data_feature].isnull(), missing_data_feature] = \"N/A\"\n",
    "    print(\"Set {} missing entries from column '{}' as N/A.\".format(\n",
    "        len(dataset[dataset[missing_data_feature] == \"N/A\"]), missing_data_feature\n",
    "    ))\n",
    "\n",
    "dataset[\"Age\"] = pd.qcut(dataset[\"Age\"], q=3, labels=[\"Junior\", \"Middle\", \"Senior\"])"
   ]
  },
  {
   "cell_type": "code",
   "execution_count": null,
   "metadata": {},
   "outputs": [],
   "source": []
  }
 ],
 "metadata": {
  "kernelspec": {
   "display_name": "Python 3",
   "language": "python",
   "name": "python3"
  },
  "language_info": {
   "codemirror_mode": {
    "name": "ipython",
    "version": 3
   },
   "file_extension": ".py",
   "mimetype": "text/x-python",
   "name": "python",
   "nbconvert_exporter": "python",
   "pygments_lexer": "ipython3",
   "version": "3.7.3"
  }
 },
 "nbformat": 4,
 "nbformat_minor": 2
}
