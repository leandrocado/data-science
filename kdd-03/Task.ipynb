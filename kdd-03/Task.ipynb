{
 "cells": [
  {
   "cell_type": "code",
   "execution_count": 1,
   "metadata": {},
   "outputs": [],
   "source": [
    "import numpy as np\n",
    "import pandas as pd"
   ]
  },
  {
   "cell_type": "code",
   "execution_count": 2,
   "metadata": {},
   "outputs": [],
   "source": [
    "jogadores = pd.read_excel(\"JOGADORES_NBA.xlsx\")\n",
    "metricas_nba = pd.read_excel(\"METRICAS_NBA.xlsx\")"
   ]
  },
  {
   "cell_type": "code",
   "execution_count": 3,
   "metadata": {},
   "outputs": [],
   "source": [
    "# useful functions, keep them all here\n",
    "\n",
    "def quantile_replacement(dataset, identifier, lower, upper, method):\n",
    "    dataset = dataset.copy(deep=True)\n",
    "    \n",
    "    lower_quantile = dataset[identifier].quantile(lower)\n",
    "    upper_quantile = dataset[identifier].quantile(upper)\n",
    "\n",
    "    filter_matrix = (dataset[identifier] < upper_quantile) & (dataset[identifier] > lower_quantile)\n",
    "\n",
    "    try:\n",
    "        replacement = getattr(dataset[filter_matrix][identifier], method)()\n",
    "    except AttributeError:\n",
    "        raise ValueError(\"Invalid method: {}\".format(method))\n",
    "\n",
    "    dataset.loc[np.invert(filter_matrix), identifier] = replacement\n",
    "    return dataset"
   ]
  },
  {
   "cell_type": "code",
   "execution_count": 4,
   "metadata": {},
   "outputs": [
    {
     "name": "stdout",
     "output_type": "stream",
     "text": [
      "height 173.0 226.0 199.43174187208254\n",
      "weight 63.0 133.0 95.45299145299145\n",
      "TS% 0.046 0.85 0.4956298891315996\n",
      "FTr 0.01 1083.0 1.4394350268170109\n",
      "Set 1646 missing entries from column 'birth_city' as N/A.\n",
      "Set 1689 missing entries from column 'birth_state' as N/A.\n",
      "Set 2223 missing entries from column 'collage' as N/A.\n"
     ]
    }
   ],
   "source": [
    "# data pre-processing\n",
    "\n",
    "dataset = jogadores.merge(metricas_nba, on=(\"Player\"))\n",
    "\n",
    "for extremised_feature in (\"height\", \"weight\", \"TS%\", \"FTr\"):\n",
    "    dataset = quantile_replacement(dataset, extremised_feature, 0.003, 0.997, method=\"mean\")\n",
    "    print(extremised_feature, dataset[extremised_feature].min(),\n",
    "          dataset[extremised_feature].max(), dataset[extremised_feature].mean())\n",
    "\n",
    "for missing_data_feature in (\"birth_city\", \"birth_state\", \"collage\"):\n",
    "    dataset.loc[dataset[missing_data_feature].isnull(), missing_data_feature] = \"N/A\"\n",
    "    print(\"Set {} missing entries from column '{}' as N/A.\".format(\n",
    "        len(dataset[dataset[missing_data_feature] == \"N/A\"]), missing_data_feature\n",
    "    ))\n",
    "\n",
    "dataset[\"AgeDisc\"] = pd.qcut(dataset[\"Age\"], q=3, labels=[\"Junior\", \"Middle\", \"Senior\"])"
   ]
  },
  {
   "cell_type": "code",
   "execution_count": 5,
   "metadata": {},
   "outputs": [
    {
     "name": "stdout",
     "output_type": "stream",
     "text": [
      "Age: 26.66440526486838\n",
      "Weight: 95.45299145299145\n"
     ]
    }
   ],
   "source": [
    "df_mean = dataset.mean()\n",
    "print(\"Age: {}\".format(df_mean[\"Age\"]))\n",
    "print(\"Weight: {}\".format(df_mean[\"weight\"]))"
   ]
  },
  {
   "cell_type": "code",
   "execution_count": 6,
   "metadata": {},
   "outputs": [
    {
     "name": "stdout",
     "output_type": "stream",
     "text": [
      "50's\n",
      "Age: 26.055805003207183\n",
      "Height: 193.94511805998724\n",
      "Weight: 88.87838921342431\n",
      "-------\n",
      "90's\n",
      "Age: 27.22980218154927\n",
      "Height: 200.1523456592628\n",
      "Weight: 95.83808404163369\n",
      "-------\n"
     ]
    }
   ],
   "source": [
    "df_50 = dataset[dataset['Year'].between(1950, 1960)].mean()\n",
    "df_90 = dataset[dataset['Year'].between(1990, 2000)].mean()\n",
    "print(\"50's\")\n",
    "print(\"Age: {}\".format(df_50[\"Age\"]))\n",
    "print(\"Height: {}\".format(df_50[\"height\"]))\n",
    "print(\"Weight: {}\".format(df_50[\"weight\"]))\n",
    "print(\"-------\")\n",
    "print(\"90's\")\n",
    "print(\"Age: {}\".format(df_90[\"Age\"]))\n",
    "print(\"Height: {}\".format(df_90[\"height\"]))\n",
    "print(\"Weight: {}\".format(df_90[\"weight\"]))\n",
    "print(\"-------\")"
   ]
  },
  {
   "cell_type": "code",
   "execution_count": 7,
   "metadata": {},
   "outputs": [
    {
     "data": {
      "text/plain": [
       "Player\n",
       "Kareem Abdul-Jabbar*        38387\n",
       "Karl Malone*                36928\n",
       "Wilt Chamberlain*           33953\n",
       "Kobe Bryant                 33643\n",
       "Michael Jordan*             32292\n",
       "                            ...  \n",
       "Al Jackson                      0\n",
       "Tom Hovasse                     0\n",
       "Martynas Andriuskevicius        0\n",
       "Mike Champion                   0\n",
       "Maurice Baker                   0\n",
       "Name: PTS, Length: 3921, dtype: int64"
      ]
     },
     "execution_count": 7,
     "metadata": {},
     "output_type": "execute_result"
    }
   ],
   "source": [
    "players_sum = dataset.groupby(\"Player\").sum()\n",
    "players_sum[\"PTS\"].sort_values(ascending=False)"
   ]
  },
  {
   "cell_type": "code",
   "execution_count": 92,
   "metadata": {},
   "outputs": [
    {
     "data": {
      "text/html": [
       "<div>\n",
       "<style scoped>\n",
       "    .dataframe tbody tr th:only-of-type {\n",
       "        vertical-align: middle;\n",
       "    }\n",
       "\n",
       "    .dataframe tbody tr th {\n",
       "        vertical-align: top;\n",
       "    }\n",
       "\n",
       "    .dataframe thead th {\n",
       "        text-align: right;\n",
       "    }\n",
       "</style>\n",
       "<table border=\"1\" class=\"dataframe\">\n",
       "  <thead>\n",
       "    <tr style=\"text-align: right;\">\n",
       "      <th></th>\n",
       "      <th>Player</th>\n",
       "      <th>Tm</th>\n",
       "      <th>Year</th>\n",
       "      <th>PTS</th>\n",
       "    </tr>\n",
       "  </thead>\n",
       "  <tbody>\n",
       "    <tr>\n",
       "      <td>12170</td>\n",
       "      <td>Joe Fulks*</td>\n",
       "      <td>PHW</td>\n",
       "      <td>1951</td>\n",
       "      <td>2201</td>\n",
       "    </tr>\n",
       "    <tr>\n",
       "      <td>8957</td>\n",
       "      <td>George Mikan*</td>\n",
       "      <td>MNL</td>\n",
       "      <td>1951</td>\n",
       "      <td>3797</td>\n",
       "    </tr>\n",
       "    <tr>\n",
       "      <td>456</td>\n",
       "      <td>Alex Groza</td>\n",
       "      <td>INO</td>\n",
       "      <td>1951</td>\n",
       "      <td>2925</td>\n",
       "    </tr>\n",
       "    <tr>\n",
       "      <td>6780</td>\n",
       "      <td>Dolph Schayes*</td>\n",
       "      <td>SYR</td>\n",
       "      <td>1951</td>\n",
       "      <td>2193</td>\n",
       "    </tr>\n",
       "    <tr>\n",
       "      <td>18956</td>\n",
       "      <td>Ralph Beard</td>\n",
       "      <td>INO</td>\n",
       "      <td>1951</td>\n",
       "      <td>2006</td>\n",
       "    </tr>\n",
       "    <tr>\n",
       "      <td>...</td>\n",
       "      <td>...</td>\n",
       "      <td>...</td>\n",
       "      <td>...</td>\n",
       "      <td>...</td>\n",
       "    </tr>\n",
       "    <tr>\n",
       "      <td>20525</td>\n",
       "      <td>Rudy Gobert</td>\n",
       "      <td>UTA</td>\n",
       "      <td>2017</td>\n",
       "      <td>2484</td>\n",
       "    </tr>\n",
       "    <tr>\n",
       "      <td>6478</td>\n",
       "      <td>Devin Booker</td>\n",
       "      <td>PHO</td>\n",
       "      <td>2017</td>\n",
       "      <td>2774</td>\n",
       "    </tr>\n",
       "    <tr>\n",
       "      <td>2654</td>\n",
       "      <td>Bojan Bogdanovic</td>\n",
       "      <td>BRK</td>\n",
       "      <td>2017</td>\n",
       "      <td>2370</td>\n",
       "    </tr>\n",
       "    <tr>\n",
       "      <td>5003</td>\n",
       "      <td>D'Angelo Russell</td>\n",
       "      <td>LAL</td>\n",
       "      <td>2017</td>\n",
       "      <td>2038</td>\n",
       "    </tr>\n",
       "    <tr>\n",
       "      <td>12537</td>\n",
       "      <td>John Henson</td>\n",
       "      <td>MIL</td>\n",
       "      <td>2017</td>\n",
       "      <td>2418</td>\n",
       "    </tr>\n",
       "  </tbody>\n",
       "</table>\n",
       "<p>5657 rows × 4 columns</p>\n",
       "</div>"
      ],
      "text/plain": [
       "                 Player   Tm  Year   PTS\n",
       "12170        Joe Fulks*  PHW  1951  2201\n",
       "8957      George Mikan*  MNL  1951  3797\n",
       "456          Alex Groza  INO  1951  2925\n",
       "6780     Dolph Schayes*  SYR  1951  2193\n",
       "18956       Ralph Beard  INO  1951  2006\n",
       "...                 ...  ...   ...   ...\n",
       "20525       Rudy Gobert  UTA  2017  2484\n",
       "6478       Devin Booker  PHO  2017  2774\n",
       "2654   Bojan Bogdanovic  BRK  2017  2370\n",
       "5003   D'Angelo Russell  LAL  2017  2038\n",
       "12537       John Henson  MIL  2017  2418\n",
       "\n",
       "[5657 rows x 4 columns]"
      ]
     },
     "execution_count": 92,
     "metadata": {},
     "output_type": "execute_result"
    }
   ],
   "source": [
    "df_cumsum = dataset.groupby([\"Player\", \"Tm\", \"Year\"]).sum().groupby(level=[0, 1]).cumsum()\n",
    "df_cumsum.reset_index(inplace=True)\n",
    "df_cumsum[df_cumsum[\"PTS\"] > 2000].sort_values(by=\"Year\", ascending=True)[[\"Player\", \"Tm\", \"Year\", \"PTS\"]]"
   ]
  },
  {
   "cell_type": "code",
   "execution_count": 19,
   "metadata": {},
   "outputs": [
    {
     "data": {
      "text/plain": [
       "Player\n",
       "Eddie Johnson       33\n",
       "Mike Dunleavy       32\n",
       "Gerald Henderson    29\n",
       "Nazr Mohammed       28\n",
       "Kevin Willis        27\n",
       "                    ..\n",
       "Gundars Vetra        1\n",
       "Guy Morgan           1\n",
       "Guy Rucker           1\n",
       "Hal Lear             1\n",
       "Joby Wright          1\n",
       "Name: Year, Length: 3921, dtype: int64"
      ]
     },
     "execution_count": 19,
     "metadata": {},
     "output_type": "execute_result"
    }
   ],
   "source": [
    "dataset.groupby(\"Player\").count()[\"Year\"].sort_values(ascending=False)"
   ]
  },
  {
   "cell_type": "code",
   "execution_count": 20,
   "metadata": {},
   "outputs": [
    {
     "data": {
      "text/plain": [
       "Player          Tm \n",
       "Kobe Bryant     LAL    20\n",
       "Tim Duncan      SAS    19\n",
       "John Stockton*  UTA    19\n",
       "Dirk Nowitzki   DAL    19\n",
       "Karl Malone*    UTA    18\n",
       "                       ..\n",
       "Kevin Stacom    IND     1\n",
       "                MIL     1\n",
       "                TOT     1\n",
       "Kevin Thompson  POR     1\n",
       "Joe Reaves      PHO     1\n",
       "Name: Year, Length: 12150, dtype: int64"
      ]
     },
     "execution_count": 20,
     "metadata": {},
     "output_type": "execute_result"
    }
   ],
   "source": [
    "dataset.groupby([\"Player\", \"Tm\"]).count()[\"Year\"].sort_values(ascending=False)"
   ]
  }
 ],
 "metadata": {
  "kernelspec": {
   "display_name": "Python 3",
   "language": "python",
   "name": "python3"
  },
  "language_info": {
   "codemirror_mode": {
    "name": "ipython",
    "version": 3
   },
   "file_extension": ".py",
   "mimetype": "text/x-python",
   "name": "python",
   "nbconvert_exporter": "python",
   "pygments_lexer": "ipython3",
   "version": "3.6.9"
  }
 },
 "nbformat": 4,
 "nbformat_minor": 2
}
